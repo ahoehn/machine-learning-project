{
 "cells": [
  {
   "cell_type": "code",
   "execution_count": null,
   "outputs": [],
   "source": [],
   "metadata": {
    "collapsed": false,
    "ExecuteTime": {
     "end_time": "2024-03-10T15:36:04.393969Z",
     "start_time": "2024-03-10T15:36:04.392269Z"
    }
   }
  },
  {
   "cell_type": "markdown",
   "metadata": {},
   "source": [
    "# Heating prediction of Swiss buildings\n",
    "\n",
    "\n",
    "This project predicts the heating type of swiss buildings depending on their known data. The model is trained with data from GWR (Gebäude Wohnung Register Schweiz).\n"
   ]
  },
  {
   "cell_type": "markdown",
   "metadata": {},
   "source": [
    "## Table of contents\n",
    "\n",
    "The contents of this project are divided into various categories which are given as follows:-\n",
    "\n",
    "\n",
    "1.\tIntroduction\n",
    "\n",
    "2.\tLinear regression intuition\n",
    "\n",
    "3.\tIndependent and dependent variables\n",
    "\n",
    "4.\tAssumptions of  linear regression\n",
    "\n",
    "5.\tThe dataset description\n",
    "\n",
    "6.\tThe problem statement\n",
    "\n",
    "7.\tImport the Python libraries\n",
    "\n",
    "8.\tImport the dataset\n",
    "\n",
    "9.\tExploratory Data Analysis\n",
    "    - Explore types of variables\n",
    "    \n",
    "    - Estimate correlation coefficients\n",
    "    \n",
    "     - Correlation heat map\n",
    "     \n",
    "10.\tDetect problems within variables\n",
    "     - Detect missing values\n",
    "     \n",
    "     - Outliers in discrete variables\n",
    "     \n",
    "     - Number of labels – cardinality\n",
    "     \n",
    "11.\tLinear Regression modeling\n",
    "    - Divide the dataset into categorical and numerical variables\n",
    "    \n",
    "    - Select the predictor and target variables\n",
    "    \n",
    "    - Create separate train and test sets\n",
    "    \n",
    "    - Feature Scaling\n",
    "    \n",
    "    - Fit the Linear Regression model\n",
    "\n",
    "12.\tPredicting the results\n",
    "    - Predicting the test set results\n",
    "    \n",
    "    - Predicting estimated relative CPU performance values\n",
    "\n",
    "13.\tModel slope and intercept terms\n",
    "\n",
    "14.\tEvaluate model performance\n",
    "    - RMSE (Root Mean Square Error)\n",
    "    \n",
    "    - R2 Score\n",
    "    \n",
    "    - Overfitting or Underfitting\n",
    "    \n",
    "    - Cross validation\n",
    "    \n",
    "    - Residual analysis\n",
    "    \n",
    "    - Normality test (Q-Q Plot)\n",
    "    \n",
    "15.\tConclusion\n",
    "\n",
    "\n"
   ]
  },
  {
   "cell_type": "markdown",
   "metadata": {},
   "source": [
    "## 1. Introduction\n",
    "\n",
    "\n",
    "In this project, I build a multiple linear regression model to estimate the relative cpu performance of computer hardware dataset. Relative cpu performance of the computer hardware is described in terms of machine cycle time, main memory, cache memory and minimum and maximum channels as given in the dataset.\n",
    "\n",
    "\n",
    "I discuss the basics and assumptions of linear regression. I also discuss the advantages and disadvantages and common pitfalls of linear regression. I present the implementation in Python programming language using Scikit-learn. Scikit-learn is the popular machine learning library of Python programming language. I also discuss various tools to evaluate the linear regression model performance.\n"
   ]
  },
  {
   "cell_type": "markdown",
   "metadata": {},
   "source": [
    "## 2. Multiple linear regression intuition\n",
    "\n",
    "\n",
    "Linear Regression is a machine learning algorithm which is used to establish the linear relationship between dependent and one or more independent variables. This technique is applicable for supervised learning regression problems where we try to predict a continuous variable. Linear Regression can be further classified into two types – Simple and Multiple Linear Regression. \n",
    "\n",
    "I have discussed the linear regression intuition in detail in the readme document.\n",
    "\n",
    "In this project, I employ Multiple Linear Regression technique where I have one dependent variable and more than one independent variables.\n"
   ]
  },
  {
   "cell_type": "markdown",
   "metadata": {},
   "source": [
    "## 3. Independent and dependent variables\n",
    "\n",
    "\n",
    "In this project, I refer Independent variable as Feature variable and Dependent variable as Target variable. These variables are also recognized by different names as follows: -\n",
    "\n",
    "\n",
    "**Independent variable**\n",
    "\n",
    "Independent variable is also called Input variable and is denoted by X. In practical applications, independent variable is also called Feature variable or Predictor variable. We can denote it as: -\n",
    "\n",
    "\n",
    "Independent or Input variable (X) = Feature variable = Predictor variable \n",
    "\n",
    "\n",
    "**Dependent variable**\n",
    "\n",
    "\n",
    "Dependent variable is also called Output variable and is denoted by y. Dependent variable is also called Target variable or Response variable. It can be denoted it as follows: -\n",
    "\n",
    "\n",
    "Dependent or Output variable (y) = Target variable = Response variable\n"
   ]
  },
  {
   "cell_type": "markdown",
   "metadata": {},
   "source": [
    "## 4. Assumptions of Linear Regression\n",
    "\n",
    "The Linear Regression model is based on several assumptions which are as follows:-\n",
    "\n",
    "\n",
    "1. Linear relationship\n",
    "\n",
    "2. Multivariate normality\n",
    "\n",
    "3. No or little multi-collinearity\n",
    "\n",
    "4. No auto-correlation in error terms\n",
    "\n",
    "5. Homoscedasticity\n",
    "\n",
    "\n",
    "\n",
    "I have described these assumptions in more detail in readme document.\n",
    "\n",
    "\n",
    "\n"
   ]
  },
  {
   "cell_type": "markdown",
   "metadata": {},
   "source": [
    "## 5. Dataset description\n",
    "\n",
    "\n",
    "Now, we should get to know more about the dataset. It is a computer hardware dataset. The dataset consists of information about the computer vendors selling computers, model name of computers and various attributes to estimate the relative performance of CPU.\n",
    "The dataset can be found at the following url –\n",
    "\n",
    "https://archive.ics.uci.edu/ml/datasets/Computer+Hardware\n",
    "\n",
    "\n",
    "The dataset description will help us to know more about the data.\n",
    "\n",
    "\n",
    "**Dataset description** is given as follows:-\n",
    "\n",
    "\n",
    "1. vendor name: 30 \n",
    "      (adviser, amdahl,apollo, basf, bti, burroughs, c.r.d, cambex, cdc, dec, \n",
    "       dg, formation, four-phase, gould, honeywell, hp, ibm, ipl, magnuson, \n",
    "       microdata, nas, ncr, nixdorf, perkin-elmer, prime, siemens, sperry, \n",
    "       sratus, wang)\n",
    "       \n",
    "2. Model Name: many unique symbols\n",
    "\n",
    "3. MYCT: machine cycle time in nanoseconds (integer)\n",
    "\n",
    "4. MMIN: minimum main memory in kilobytes (integer)\n",
    "\n",
    "5. MMAX: maximum main memory in kilobytes (integer)\n",
    "\n",
    "6. CACH: cache memory in kilobytes (integer)\n",
    "\n",
    "7. CHMIN: minimum channels in units (integer)\n",
    "\n",
    "8. CHMAX: maximum channels in units (integer)\n",
    "\n",
    "9. PRP: published relative performance (integer)\n",
    "\n",
    "10. ERP: estimated relative performance from the original article (integer)\n",
    "  "
   ]
  },
  {
   "cell_type": "markdown",
   "metadata": {},
   "source": [
    "## 6. The problem statement\n",
    "\n",
    "\n",
    "A machine learning model is built with the aim of solving a problem. So, first of all I have to define the problem to be solved in this project.\n",
    "\n",
    "As described earlier, the problem is to estimate the relative CPU performance of computer hardware dataset. Relative CPU performance of the computer hardware is described in terms of machine cycle time, main memory, cache memory and minimum and maximum channels as given in the dataset.\n",
    "\n",
    "So, let's get started. I will start by importing the required Python libraries."
   ]
  },
  {
   "cell_type": "markdown",
   "metadata": {},
   "source": [
    "## 7. Import the Python libraries"
   ]
  },
  {
   "cell_type": "code",
   "execution_count": 1,
   "metadata": {
    "ExecuteTime": {
     "end_time": "2024-03-10T15:36:04.604622Z",
     "start_time": "2024-03-10T15:36:04.395004Z"
    }
   },
   "outputs": [],
   "source": [
    "# import required Python libraries\n",
    "\n",
    "# to handle datasets\n",
    "import numpy as np\n",
    "import pandas as pd\n",
    "from sqlalchemy import create_engine\n",
    "\n",
    "# for plotting\n",
    "import matplotlib.pyplot as plt\n",
    "%matplotlib inline\n",
    "import seaborn as sns\n",
    "\n",
    "\n",
    "import warnings\n",
    "warnings.filterwarnings('ignore')"
   ]
  },
  {
   "cell_type": "markdown",
   "metadata": {},
   "source": [
    "## 8. Import the dataset"
   ]
  },
  {
   "cell_type": "code",
   "execution_count": 2,
   "metadata": {
    "ExecuteTime": {
     "end_time": "2024-03-10T15:36:08.167221Z",
     "start_time": "2024-03-10T15:36:04.606805Z"
    }
   },
   "outputs": [],
   "source": [
    "# import the dataset\n",
    "\n",
    "engine = create_engine('sqlite:///../data/data.sqlite')\n",
    "\n",
    "query_training_data = \"\"\"select b.EGID, STRNAME, DEINR, DPLZ4, GGDENAME, GDEKT,\n",
    "GKODE, GKODN,\n",
    "GSTAT, GBAUJ, GKAT, GKLAS,\n",
    "GAREA, GASTW, GANZWHG,\n",
    "GWAERZH1, w1.CODTXTLD as GWAERZH1TXT, GENH1, c1.CODTXTLD as GENH1TXT, GWAERDATH1,\n",
    "GWAERZH2, w2.CODTXTLD as GWAERZH2TXT, GENH2, c2.CODTXTLD as GENH2TXT, GWAERDATH2\n",
    "from building b,\n",
    "entrance e,\n",
    "(select CECODID, CODTXTLD from codes WHERE CMERKM = 'GWAERZH1') w1,\n",
    "(select CECODID, CODTXTLD from codes WHERE CMERKM = 'GENH1') c1,\n",
    "(select CECODID, CODTXTLD from codes WHERE CMERKM = 'GWAERZH2') w2,\n",
    "(select CECODID, CODTXTLD from codes WHERE CMERKM = 'GENH2') c2\n",
    "WHERE b.GABBJ == ''\n",
    "AND (GENH1 NOT IN ('', '7500', '7598') OR GENH2 NOT IN ('', '7500', '7598'))\n",
    "AND b.GWAERZH1 = w1.CECODID\n",
    "AND b.GENH1 = c1.CECODID\n",
    "AND b.GWAERZH2 = w2.CECODID\n",
    "AND b.GENH2 = c2.CECODID\n",
    "AND e.EGID = b.EGID\"\"\"\n",
    "\n",
    "df = pd.read_sql_query(query_training_data, engine)"
   ]
  },
  {
   "cell_type": "markdown",
   "metadata": {},
   "source": [
    "## 9. Simple Data Analysis\n",
    "\n",
    "\n",
    "Now, I will perform Exploratory Data Analysis. It provides useful insights into the dataset which is important for further analysis.\n",
    "\n",
    "First of all, we should check the dimensions of the dataframe as follows:-"
   ]
  },
  {
   "cell_type": "code",
   "execution_count": 3,
   "metadata": {
    "ExecuteTime": {
     "end_time": "2024-03-10T15:36:08.169992Z",
     "start_time": "2024-03-10T15:36:08.167401Z"
    }
   },
   "outputs": [
    {
     "name": "stdout",
     "output_type": "stream",
     "text": [
      "Shape of dataframe df: (305755, 25)\n"
     ]
    }
   ],
   "source": [
    "# view the dimensions of dataframe df\n",
    "\n",
    "print(\"Shape of dataframe df: {}\".format(df.shape))"
   ]
  },
  {
   "cell_type": "markdown",
   "metadata": {},
   "source": [
    "We can see that there are 305755 rows and 27 columns in the dataset. Next, we should get an insight about the dataset.\n",
    "\n",
    "The **df.head()** function helps us to visualize the first 5 rows of the dataset."
   ]
  },
  {
   "cell_type": "code",
   "execution_count": 4,
   "metadata": {
    "ExecuteTime": {
     "end_time": "2024-03-10T15:36:08.180265Z",
     "start_time": "2024-03-10T15:36:08.170785Z"
    }
   },
   "outputs": [
    {
     "data": {
      "text/plain": "       EGID             STRNAME DEINR DPLZ4         GGDENAME GDEKT  \\\n0  11513432           Pöstliweg     5  8914  Aeugst am Albis    ZH   \n1   1600017  Reppischtalstrasse    34  8914  Aeugst am Albis    ZH   \n2   1600029       Chnübrechiweg     4  8914  Aeugst am Albis    ZH   \n3   1600030      Hüttliacherweg     4  8914  Aeugst am Albis    ZH   \n4   1600036       In der Breite    17  8914  Aeugst am Albis    ZH   \n\n         GKODE        GKODN GSTAT GBAUJ  ... GWAERZH1  \\\n0  2679647.268  1237500.347  1004  2000  ...     7410   \n1  2680230.492   1237201.59  1004  1870  ...     7430   \n2  2680642.762  1236862.355  1004  1849  ...     7410   \n3  2680643.117  1236909.796  1004  1930  ...     7430   \n4  2679729.361  1237633.405  1004  1900  ...     7430   \n\n                              GWAERZH1TXT GENH1          GENH1TXT  GWAERDATH1  \\\n0              Wärmepumpe für ein Gebäude  7511     Erdwärmesonde  2023-10-02   \n1  Heizkessel (generisch) für ein Gebäude  7530            Heizöl  2022-07-20   \n2              Wärmepumpe für ein Gebäude  7511     Erdwärmesonde  2022-01-04   \n3  Heizkessel (generisch) für ein Gebäude  7530            Heizöl  2001-11-29   \n4  Heizkessel (generisch) für ein Gebäude  7540  Holz (generisch)  2023-03-21   \n\n  GWAERZH2         GWAERZH2TXT GENH2 GENH2TXT  GWAERDATH2  \n0     7400  Kein Wärmeerzeuger  7500    Keine  2023-10-02  \n1     7400  Kein Wärmeerzeuger  7500    Keine  2022-07-20  \n2     7400  Kein Wärmeerzeuger  7500    Keine  2022-01-04  \n3     7400  Kein Wärmeerzeuger  7500    Keine  2023-01-23  \n4     7400  Kein Wärmeerzeuger  7500    Keine  2023-03-21  \n\n[5 rows x 25 columns]",
      "text/html": "<div>\n<style scoped>\n    .dataframe tbody tr th:only-of-type {\n        vertical-align: middle;\n    }\n\n    .dataframe tbody tr th {\n        vertical-align: top;\n    }\n\n    .dataframe thead th {\n        text-align: right;\n    }\n</style>\n<table border=\"1\" class=\"dataframe\">\n  <thead>\n    <tr style=\"text-align: right;\">\n      <th></th>\n      <th>EGID</th>\n      <th>STRNAME</th>\n      <th>DEINR</th>\n      <th>DPLZ4</th>\n      <th>GGDENAME</th>\n      <th>GDEKT</th>\n      <th>GKODE</th>\n      <th>GKODN</th>\n      <th>GSTAT</th>\n      <th>GBAUJ</th>\n      <th>...</th>\n      <th>GWAERZH1</th>\n      <th>GWAERZH1TXT</th>\n      <th>GENH1</th>\n      <th>GENH1TXT</th>\n      <th>GWAERDATH1</th>\n      <th>GWAERZH2</th>\n      <th>GWAERZH2TXT</th>\n      <th>GENH2</th>\n      <th>GENH2TXT</th>\n      <th>GWAERDATH2</th>\n    </tr>\n  </thead>\n  <tbody>\n    <tr>\n      <th>0</th>\n      <td>11513432</td>\n      <td>Pöstliweg</td>\n      <td>5</td>\n      <td>8914</td>\n      <td>Aeugst am Albis</td>\n      <td>ZH</td>\n      <td>2679647.268</td>\n      <td>1237500.347</td>\n      <td>1004</td>\n      <td>2000</td>\n      <td>...</td>\n      <td>7410</td>\n      <td>Wärmepumpe für ein Gebäude</td>\n      <td>7511</td>\n      <td>Erdwärmesonde</td>\n      <td>2023-10-02</td>\n      <td>7400</td>\n      <td>Kein Wärmeerzeuger</td>\n      <td>7500</td>\n      <td>Keine</td>\n      <td>2023-10-02</td>\n    </tr>\n    <tr>\n      <th>1</th>\n      <td>1600017</td>\n      <td>Reppischtalstrasse</td>\n      <td>34</td>\n      <td>8914</td>\n      <td>Aeugst am Albis</td>\n      <td>ZH</td>\n      <td>2680230.492</td>\n      <td>1237201.59</td>\n      <td>1004</td>\n      <td>1870</td>\n      <td>...</td>\n      <td>7430</td>\n      <td>Heizkessel (generisch) für ein Gebäude</td>\n      <td>7530</td>\n      <td>Heizöl</td>\n      <td>2022-07-20</td>\n      <td>7400</td>\n      <td>Kein Wärmeerzeuger</td>\n      <td>7500</td>\n      <td>Keine</td>\n      <td>2022-07-20</td>\n    </tr>\n    <tr>\n      <th>2</th>\n      <td>1600029</td>\n      <td>Chnübrechiweg</td>\n      <td>4</td>\n      <td>8914</td>\n      <td>Aeugst am Albis</td>\n      <td>ZH</td>\n      <td>2680642.762</td>\n      <td>1236862.355</td>\n      <td>1004</td>\n      <td>1849</td>\n      <td>...</td>\n      <td>7410</td>\n      <td>Wärmepumpe für ein Gebäude</td>\n      <td>7511</td>\n      <td>Erdwärmesonde</td>\n      <td>2022-01-04</td>\n      <td>7400</td>\n      <td>Kein Wärmeerzeuger</td>\n      <td>7500</td>\n      <td>Keine</td>\n      <td>2022-01-04</td>\n    </tr>\n    <tr>\n      <th>3</th>\n      <td>1600030</td>\n      <td>Hüttliacherweg</td>\n      <td>4</td>\n      <td>8914</td>\n      <td>Aeugst am Albis</td>\n      <td>ZH</td>\n      <td>2680643.117</td>\n      <td>1236909.796</td>\n      <td>1004</td>\n      <td>1930</td>\n      <td>...</td>\n      <td>7430</td>\n      <td>Heizkessel (generisch) für ein Gebäude</td>\n      <td>7530</td>\n      <td>Heizöl</td>\n      <td>2001-11-29</td>\n      <td>7400</td>\n      <td>Kein Wärmeerzeuger</td>\n      <td>7500</td>\n      <td>Keine</td>\n      <td>2023-01-23</td>\n    </tr>\n    <tr>\n      <th>4</th>\n      <td>1600036</td>\n      <td>In der Breite</td>\n      <td>17</td>\n      <td>8914</td>\n      <td>Aeugst am Albis</td>\n      <td>ZH</td>\n      <td>2679729.361</td>\n      <td>1237633.405</td>\n      <td>1004</td>\n      <td>1900</td>\n      <td>...</td>\n      <td>7430</td>\n      <td>Heizkessel (generisch) für ein Gebäude</td>\n      <td>7540</td>\n      <td>Holz (generisch)</td>\n      <td>2023-03-21</td>\n      <td>7400</td>\n      <td>Kein Wärmeerzeuger</td>\n      <td>7500</td>\n      <td>Keine</td>\n      <td>2023-03-21</td>\n    </tr>\n  </tbody>\n</table>\n<p>5 rows × 25 columns</p>\n</div>"
     },
     "execution_count": 4,
     "metadata": {},
     "output_type": "execute_result"
    }
   ],
   "source": [
    "# view the top five rows of dataframe df\n",
    "\n",
    "df.head()"
   ]
  },
  {
   "cell_type": "markdown",
   "metadata": {},
   "source": []
  },
  {
   "cell_type": "code",
   "execution_count": 5,
   "metadata": {
    "ExecuteTime": {
     "end_time": "2024-03-10T15:36:10.486485Z",
     "start_time": "2024-03-10T15:36:08.178685Z"
    }
   },
   "outputs": [
    {
     "name": "stdout",
     "output_type": "stream",
     "text": [
      "Shape of prediction data: (1000, 25)\n"
     ]
    },
    {
     "data": {
      "text/plain": "        EGID                 STRNAME DEINR DPLZ4   GGDENAME GDEKT  \\\n0  245039210            Grienmattweg    6b  4450    Sissach    BL   \n1     860784  Chemin des Prés du Ruz     2  1580   Avenches    VD   \n2  245005718                  Bürten   76b  4418     Lauwil    BL   \n3  245003775        Zeiningerstrasse    14  4464  Maisprach    BL   \n4  243055555         Luftmattstrasse  10.1  4052      Basel    BS   \n\n         GKODE        GKODN GSTAT GBAUJ  ... GWAERZH1  \\\n0  2627645.575  1257694.901  1004  1978  ...     7400   \n1      2569837      1191698  1004  1987  ...     7410   \n2  2618641.901  1247268.444  1004  1855  ...     7400   \n3  2630821.151   1263973.22  1004  1800  ...     7400   \n4  2612307.498  1266411.804  1004  1932  ...     7400   \n\n                  GWAERZH1TXT GENH1    GENH1TXT  GWAERDATH1 GWAERZH2  \\\n0          Kein Wärmeerzeuger  7500       Keine  2021-08-02     7400   \n1  Wärmepumpe für ein Gebäude  7598  Unbestimmt  2019-02-18     7400   \n2          Kein Wärmeerzeuger  7500       Keine  2021-08-02     7400   \n3          Kein Wärmeerzeuger  7500       Keine  2021-08-02     7400   \n4          Kein Wärmeerzeuger  7500       Keine  2019-12-31     7400   \n\n          GWAERZH2TXT GENH2 GENH2TXT  GWAERDATH2  \n0  Kein Wärmeerzeuger  7500    Keine  2024-02-21  \n1  Kein Wärmeerzeuger  7500    Keine  2019-02-18  \n2  Kein Wärmeerzeuger  7500    Keine  2024-02-21  \n3  Kein Wärmeerzeuger  7500    Keine  2024-02-21  \n4  Kein Wärmeerzeuger  7500    Keine  2021-02-01  \n\n[5 rows x 25 columns]",
      "text/html": "<div>\n<style scoped>\n    .dataframe tbody tr th:only-of-type {\n        vertical-align: middle;\n    }\n\n    .dataframe tbody tr th {\n        vertical-align: top;\n    }\n\n    .dataframe thead th {\n        text-align: right;\n    }\n</style>\n<table border=\"1\" class=\"dataframe\">\n  <thead>\n    <tr style=\"text-align: right;\">\n      <th></th>\n      <th>EGID</th>\n      <th>STRNAME</th>\n      <th>DEINR</th>\n      <th>DPLZ4</th>\n      <th>GGDENAME</th>\n      <th>GDEKT</th>\n      <th>GKODE</th>\n      <th>GKODN</th>\n      <th>GSTAT</th>\n      <th>GBAUJ</th>\n      <th>...</th>\n      <th>GWAERZH1</th>\n      <th>GWAERZH1TXT</th>\n      <th>GENH1</th>\n      <th>GENH1TXT</th>\n      <th>GWAERDATH1</th>\n      <th>GWAERZH2</th>\n      <th>GWAERZH2TXT</th>\n      <th>GENH2</th>\n      <th>GENH2TXT</th>\n      <th>GWAERDATH2</th>\n    </tr>\n  </thead>\n  <tbody>\n    <tr>\n      <th>0</th>\n      <td>245039210</td>\n      <td>Grienmattweg</td>\n      <td>6b</td>\n      <td>4450</td>\n      <td>Sissach</td>\n      <td>BL</td>\n      <td>2627645.575</td>\n      <td>1257694.901</td>\n      <td>1004</td>\n      <td>1978</td>\n      <td>...</td>\n      <td>7400</td>\n      <td>Kein Wärmeerzeuger</td>\n      <td>7500</td>\n      <td>Keine</td>\n      <td>2021-08-02</td>\n      <td>7400</td>\n      <td>Kein Wärmeerzeuger</td>\n      <td>7500</td>\n      <td>Keine</td>\n      <td>2024-02-21</td>\n    </tr>\n    <tr>\n      <th>1</th>\n      <td>860784</td>\n      <td>Chemin des Prés du Ruz</td>\n      <td>2</td>\n      <td>1580</td>\n      <td>Avenches</td>\n      <td>VD</td>\n      <td>2569837</td>\n      <td>1191698</td>\n      <td>1004</td>\n      <td>1987</td>\n      <td>...</td>\n      <td>7410</td>\n      <td>Wärmepumpe für ein Gebäude</td>\n      <td>7598</td>\n      <td>Unbestimmt</td>\n      <td>2019-02-18</td>\n      <td>7400</td>\n      <td>Kein Wärmeerzeuger</td>\n      <td>7500</td>\n      <td>Keine</td>\n      <td>2019-02-18</td>\n    </tr>\n    <tr>\n      <th>2</th>\n      <td>245005718</td>\n      <td>Bürten</td>\n      <td>76b</td>\n      <td>4418</td>\n      <td>Lauwil</td>\n      <td>BL</td>\n      <td>2618641.901</td>\n      <td>1247268.444</td>\n      <td>1004</td>\n      <td>1855</td>\n      <td>...</td>\n      <td>7400</td>\n      <td>Kein Wärmeerzeuger</td>\n      <td>7500</td>\n      <td>Keine</td>\n      <td>2021-08-02</td>\n      <td>7400</td>\n      <td>Kein Wärmeerzeuger</td>\n      <td>7500</td>\n      <td>Keine</td>\n      <td>2024-02-21</td>\n    </tr>\n    <tr>\n      <th>3</th>\n      <td>245003775</td>\n      <td>Zeiningerstrasse</td>\n      <td>14</td>\n      <td>4464</td>\n      <td>Maisprach</td>\n      <td>BL</td>\n      <td>2630821.151</td>\n      <td>1263973.22</td>\n      <td>1004</td>\n      <td>1800</td>\n      <td>...</td>\n      <td>7400</td>\n      <td>Kein Wärmeerzeuger</td>\n      <td>7500</td>\n      <td>Keine</td>\n      <td>2021-08-02</td>\n      <td>7400</td>\n      <td>Kein Wärmeerzeuger</td>\n      <td>7500</td>\n      <td>Keine</td>\n      <td>2024-02-21</td>\n    </tr>\n    <tr>\n      <th>4</th>\n      <td>243055555</td>\n      <td>Luftmattstrasse</td>\n      <td>10.1</td>\n      <td>4052</td>\n      <td>Basel</td>\n      <td>BS</td>\n      <td>2612307.498</td>\n      <td>1266411.804</td>\n      <td>1004</td>\n      <td>1932</td>\n      <td>...</td>\n      <td>7400</td>\n      <td>Kein Wärmeerzeuger</td>\n      <td>7500</td>\n      <td>Keine</td>\n      <td>2019-12-31</td>\n      <td>7400</td>\n      <td>Kein Wärmeerzeuger</td>\n      <td>7500</td>\n      <td>Keine</td>\n      <td>2021-02-01</td>\n    </tr>\n  </tbody>\n</table>\n<p>5 rows × 25 columns</p>\n</div>"
     },
     "execution_count": 5,
     "metadata": {},
     "output_type": "execute_result"
    }
   ],
   "source": [
    "# split df into two parts. Those where the heating tipe is unknown (our prediction data) and those where it's known (our training and validation data)\n",
    "query_prediction_data = \"\"\"SELECT * FROM\n",
    "(\n",
    "    select b.EGID, STRNAME, DEINR, DPLZ4, GGDENAME, GDEKT,\n",
    "       GKODE, GKODN,\n",
    "       GSTAT, GBAUJ, GKAT, GKLAS,\n",
    "       GAREA, GASTW, GANZWHG,\n",
    "       GWAERZH1, w1.CODTXTLD as GWAERZH1TXT, GENH1, c1.CODTXTLD as GENH1TXT, GWAERDATH1,\n",
    "       GWAERZH2, w2.CODTXTLD as GWAERZH2TXT, GENH2, c2.CODTXTLD as GENH2TXT, GWAERDATH2\n",
    "from building b,\n",
    "     entrance e,\n",
    "     (select CECODID, CODTXTLD from codes WHERE CMERKM = 'GWAERZH1') w1,\n",
    "     (select CECODID, CODTXTLD from codes WHERE CMERKM = 'GENH1') c1,\n",
    "     (select CECODID, CODTXTLD from codes WHERE CMERKM = 'GWAERZH2') w2,\n",
    "     (select CECODID, CODTXTLD from codes WHERE CMERKM = 'GENH2') c2\n",
    "WHERE b.GABBJ == ''\n",
    "  AND (GENH1 IN ('', '7500', '7598') AND GENH2 IN ('', '7500', '7598'))\n",
    "  AND b.GWAERZH1 = w1.CECODID\n",
    "  AND b.GENH1 = c1.CECODID\n",
    "  AND b.GWAERZH2 = w2.CECODID\n",
    "  AND b.GENH2 = c2.CECODID\n",
    "  AND e.EGID = b.EGID\n",
    "  ORDER BY RANDOM()\n",
    ")\n",
    "LIMIT 1000\n",
    "\"\"\"\n",
    "\n",
    "df_prediction_data = pd.read_sql_query(query_prediction_data, engine)\n",
    "\n",
    "print(\"Shape of prediction data: {}\".format(df_prediction_data.shape))\n",
    "df_prediction_data.head()"
   ]
  },
  {
   "cell_type": "markdown",
   "metadata": {},
   "source": []
  },
  {
   "cell_type": "code",
   "execution_count": 6,
   "metadata": {
    "ExecuteTime": {
     "end_time": "2024-03-10T15:36:10.495108Z",
     "start_time": "2024-03-10T15:36:10.488247Z"
    }
   },
   "outputs": [
    {
     "data": {
      "text/plain": "       EGID             STRNAME DEINR DPLZ4         GGDENAME GDEKT  \\\n0  11513432           Pöstliweg     5  8914  Aeugst am Albis    ZH   \n1   1600017  Reppischtalstrasse    34  8914  Aeugst am Albis    ZH   \n2   1600029       Chnübrechiweg     4  8914  Aeugst am Albis    ZH   \n3   1600030      Hüttliacherweg     4  8914  Aeugst am Albis    ZH   \n4   1600036       In der Breite    17  8914  Aeugst am Albis    ZH   \n\n         GKODE        GKODN GSTAT GBAUJ  ... GWAERZH1  \\\n0  2679647.268  1237500.347  1004  2000  ...     7410   \n1  2680230.492   1237201.59  1004  1870  ...     7430   \n2  2680642.762  1236862.355  1004  1849  ...     7410   \n3  2680643.117  1236909.796  1004  1930  ...     7430   \n4  2679729.361  1237633.405  1004  1900  ...     7430   \n\n                              GWAERZH1TXT GENH1          GENH1TXT  GWAERDATH1  \\\n0              Wärmepumpe für ein Gebäude  7511     Erdwärmesonde  2023-10-02   \n1  Heizkessel (generisch) für ein Gebäude  7530            Heizöl  2022-07-20   \n2              Wärmepumpe für ein Gebäude  7511     Erdwärmesonde  2022-01-04   \n3  Heizkessel (generisch) für ein Gebäude  7530            Heizöl  2001-11-29   \n4  Heizkessel (generisch) für ein Gebäude  7540  Holz (generisch)  2023-03-21   \n\n  GWAERZH2         GWAERZH2TXT GENH2 GENH2TXT  GWAERDATH2  \n0     7400  Kein Wärmeerzeuger  7500    Keine  2023-10-02  \n1     7400  Kein Wärmeerzeuger  7500    Keine  2022-07-20  \n2     7400  Kein Wärmeerzeuger  7500    Keine  2022-01-04  \n3     7400  Kein Wärmeerzeuger  7500    Keine  2023-01-23  \n4     7400  Kein Wärmeerzeuger  7500    Keine  2023-03-21  \n\n[5 rows x 25 columns]",
      "text/html": "<div>\n<style scoped>\n    .dataframe tbody tr th:only-of-type {\n        vertical-align: middle;\n    }\n\n    .dataframe tbody tr th {\n        vertical-align: top;\n    }\n\n    .dataframe thead th {\n        text-align: right;\n    }\n</style>\n<table border=\"1\" class=\"dataframe\">\n  <thead>\n    <tr style=\"text-align: right;\">\n      <th></th>\n      <th>EGID</th>\n      <th>STRNAME</th>\n      <th>DEINR</th>\n      <th>DPLZ4</th>\n      <th>GGDENAME</th>\n      <th>GDEKT</th>\n      <th>GKODE</th>\n      <th>GKODN</th>\n      <th>GSTAT</th>\n      <th>GBAUJ</th>\n      <th>...</th>\n      <th>GWAERZH1</th>\n      <th>GWAERZH1TXT</th>\n      <th>GENH1</th>\n      <th>GENH1TXT</th>\n      <th>GWAERDATH1</th>\n      <th>GWAERZH2</th>\n      <th>GWAERZH2TXT</th>\n      <th>GENH2</th>\n      <th>GENH2TXT</th>\n      <th>GWAERDATH2</th>\n    </tr>\n  </thead>\n  <tbody>\n    <tr>\n      <th>0</th>\n      <td>11513432</td>\n      <td>Pöstliweg</td>\n      <td>5</td>\n      <td>8914</td>\n      <td>Aeugst am Albis</td>\n      <td>ZH</td>\n      <td>2679647.268</td>\n      <td>1237500.347</td>\n      <td>1004</td>\n      <td>2000</td>\n      <td>...</td>\n      <td>7410</td>\n      <td>Wärmepumpe für ein Gebäude</td>\n      <td>7511</td>\n      <td>Erdwärmesonde</td>\n      <td>2023-10-02</td>\n      <td>7400</td>\n      <td>Kein Wärmeerzeuger</td>\n      <td>7500</td>\n      <td>Keine</td>\n      <td>2023-10-02</td>\n    </tr>\n    <tr>\n      <th>1</th>\n      <td>1600017</td>\n      <td>Reppischtalstrasse</td>\n      <td>34</td>\n      <td>8914</td>\n      <td>Aeugst am Albis</td>\n      <td>ZH</td>\n      <td>2680230.492</td>\n      <td>1237201.59</td>\n      <td>1004</td>\n      <td>1870</td>\n      <td>...</td>\n      <td>7430</td>\n      <td>Heizkessel (generisch) für ein Gebäude</td>\n      <td>7530</td>\n      <td>Heizöl</td>\n      <td>2022-07-20</td>\n      <td>7400</td>\n      <td>Kein Wärmeerzeuger</td>\n      <td>7500</td>\n      <td>Keine</td>\n      <td>2022-07-20</td>\n    </tr>\n    <tr>\n      <th>2</th>\n      <td>1600029</td>\n      <td>Chnübrechiweg</td>\n      <td>4</td>\n      <td>8914</td>\n      <td>Aeugst am Albis</td>\n      <td>ZH</td>\n      <td>2680642.762</td>\n      <td>1236862.355</td>\n      <td>1004</td>\n      <td>1849</td>\n      <td>...</td>\n      <td>7410</td>\n      <td>Wärmepumpe für ein Gebäude</td>\n      <td>7511</td>\n      <td>Erdwärmesonde</td>\n      <td>2022-01-04</td>\n      <td>7400</td>\n      <td>Kein Wärmeerzeuger</td>\n      <td>7500</td>\n      <td>Keine</td>\n      <td>2022-01-04</td>\n    </tr>\n    <tr>\n      <th>3</th>\n      <td>1600030</td>\n      <td>Hüttliacherweg</td>\n      <td>4</td>\n      <td>8914</td>\n      <td>Aeugst am Albis</td>\n      <td>ZH</td>\n      <td>2680643.117</td>\n      <td>1236909.796</td>\n      <td>1004</td>\n      <td>1930</td>\n      <td>...</td>\n      <td>7430</td>\n      <td>Heizkessel (generisch) für ein Gebäude</td>\n      <td>7530</td>\n      <td>Heizöl</td>\n      <td>2001-11-29</td>\n      <td>7400</td>\n      <td>Kein Wärmeerzeuger</td>\n      <td>7500</td>\n      <td>Keine</td>\n      <td>2023-01-23</td>\n    </tr>\n    <tr>\n      <th>4</th>\n      <td>1600036</td>\n      <td>In der Breite</td>\n      <td>17</td>\n      <td>8914</td>\n      <td>Aeugst am Albis</td>\n      <td>ZH</td>\n      <td>2679729.361</td>\n      <td>1237633.405</td>\n      <td>1004</td>\n      <td>1900</td>\n      <td>...</td>\n      <td>7430</td>\n      <td>Heizkessel (generisch) für ein Gebäude</td>\n      <td>7540</td>\n      <td>Holz (generisch)</td>\n      <td>2023-03-21</td>\n      <td>7400</td>\n      <td>Kein Wärmeerzeuger</td>\n      <td>7500</td>\n      <td>Keine</td>\n      <td>2023-03-21</td>\n    </tr>\n  </tbody>\n</table>\n<p>5 rows × 25 columns</p>\n</div>"
     },
     "execution_count": 6,
     "metadata": {},
     "output_type": "execute_result"
    }
   ],
   "source": [
    "# select the opposite as test data\n",
    "df.head()"
   ]
  },
  {
   "cell_type": "markdown",
   "metadata": {},
   "source": [
    "### Explore types of variables\n",
    "\n",
    "\n",
    "In this section, I will explore the types of variables in the dataset."
   ]
  },
  {
   "cell_type": "markdown",
   "metadata": {},
   "source": [
    "First, let's view a concise summary of the dataframe with **df.info()** method."
   ]
  },
  {
   "cell_type": "code",
   "execution_count": 7,
   "metadata": {
    "ExecuteTime": {
     "end_time": "2024-03-10T15:36:10.987338Z",
     "start_time": "2024-03-10T15:36:10.977918Z"
    }
   },
   "outputs": [
    {
     "name": "stdout",
     "output_type": "stream",
     "text": [
      "<class 'pandas.core.frame.DataFrame'>\n",
      "RangeIndex: 305755 entries, 0 to 305754\n",
      "Data columns (total 25 columns):\n",
      " #   Column       Non-Null Count   Dtype \n",
      "---  ------       --------------   ----- \n",
      " 0   EGID         305755 non-null  object\n",
      " 1   STRNAME      305755 non-null  object\n",
      " 2   DEINR        305755 non-null  object\n",
      " 3   DPLZ4        305755 non-null  object\n",
      " 4   GGDENAME     305755 non-null  object\n",
      " 5   GDEKT        305755 non-null  object\n",
      " 6   GKODE        305755 non-null  object\n",
      " 7   GKODN        305755 non-null  object\n",
      " 8   GSTAT        305755 non-null  object\n",
      " 9   GBAUJ        305755 non-null  object\n",
      " 10  GKAT         305755 non-null  object\n",
      " 11  GKLAS        305755 non-null  object\n",
      " 12  GAREA        305755 non-null  object\n",
      " 13  GASTW        305755 non-null  object\n",
      " 14  GANZWHG      305755 non-null  object\n",
      " 15  GWAERZH1     305755 non-null  object\n",
      " 16  GWAERZH1TXT  305755 non-null  object\n",
      " 17  GENH1        305755 non-null  object\n",
      " 18  GENH1TXT     305755 non-null  object\n",
      " 19  GWAERDATH1   305755 non-null  object\n",
      " 20  GWAERZH2     305755 non-null  object\n",
      " 21  GWAERZH2TXT  305755 non-null  object\n",
      " 22  GENH2        305755 non-null  object\n",
      " 23  GENH2TXT     305755 non-null  object\n",
      " 24  GWAERDATH2   305755 non-null  object\n",
      "dtypes: object(25)\n",
      "memory usage: 58.3+ MB\n"
     ]
    }
   ],
   "source": [
    "# view dataframe summary\n",
    "\n",
    "df.info()"
   ]
  },
  {
   "cell_type": "markdown",
   "metadata": {},
   "source": [
    "We can see that there are just categorical variables in the dataset. "
   ]
  },
  {
   "cell_type": "code",
   "execution_count": 8,
   "metadata": {
    "ExecuteTime": {
     "end_time": "2024-03-10T15:36:10.989298Z",
     "start_time": "2024-03-10T15:36:10.986974Z"
    }
   },
   "outputs": [
    {
     "name": "stdout",
     "output_type": "stream",
     "text": [
      "There are 25 categorical variables\n"
     ]
    }
   ],
   "source": [
    "# find categorical variables\n",
    "\n",
    "categorical = [col for col in df.columns if df[col].dtype=='O']\n",
    "print('There are {} categorical variables'.format(len(categorical)))"
   ]
  },
  {
   "cell_type": "code",
   "execution_count": 9,
   "metadata": {
    "ExecuteTime": {
     "end_time": "2024-03-10T15:36:10.992367Z",
     "start_time": "2024-03-10T15:36:10.989756Z"
    }
   },
   "outputs": [
    {
     "name": "stdout",
     "output_type": "stream",
     "text": [
      "['EGID', 'STRNAME', 'DEINR', 'DPLZ4', 'GGDENAME', 'GDEKT', 'GKODE', 'GKODN', 'GSTAT', 'GBAUJ', 'GKAT', 'GKLAS', 'GAREA', 'GASTW', 'GANZWHG', 'GWAERZH1', 'GWAERZH1TXT', 'GENH1', 'GENH1TXT', 'GWAERDATH1', 'GWAERZH2', 'GWAERZH2TXT', 'GENH2', 'GENH2TXT', 'GWAERDATH2']\n"
     ]
    }
   ],
   "source": [
    "# view the categorical variables\n",
    "\n",
    "print(categorical)"
   ]
  },
  {
   "cell_type": "markdown",
   "metadata": {},
   "source": [
    "check heating type 1"
   ]
  },
  {
   "cell_type": "code",
   "execution_count": 10,
   "metadata": {
    "ExecuteTime": {
     "end_time": "2024-03-10T15:36:11.075822Z",
     "start_time": "2024-03-10T15:36:11.037824Z"
    }
   },
   "outputs": [
    {
     "data": {
      "text/plain": "GENH1\n7530    90624\n7520    73594\n7501    35606\n7580    27005\n7540    18672\n7511    17097\n7560    15867\n7510    11706\n7541     3657\n7542     2957\n7513     2046\n7581     1719\n7599     1586\n7598     1401\n7570      869\n7543      731\n7582      420\n7512      152\n7550       46\nName: count, dtype: int64"
     },
     "execution_count": 10,
     "metadata": {},
     "output_type": "execute_result"
    }
   ],
   "source": [
    "df['GENH1'].value_counts()"
   ]
  },
  {
   "cell_type": "markdown",
   "source": [
    "check heating type 2"
   ],
   "metadata": {
    "collapsed": false
   }
  },
  {
   "cell_type": "code",
   "execution_count": 11,
   "metadata": {
    "ExecuteTime": {
     "end_time": "2024-03-10T15:36:11.101618Z",
     "start_time": "2024-03-10T15:36:11.088043Z"
    }
   },
   "outputs": [
    {
     "data": {
      "text/plain": "GENH2\n7500    268059\n7560      9735\n7570      8753\n7540      8167\n7530      3238\n7541      2020\n7520      1461\n7501      1175\n7598       740\n7513       698\n7599       592\n7542       413\n7511       277\n7580       208\n7510       111\n7543        55\n7581        18\n7512        15\n7550        11\n7582         9\nName: count, dtype: int64"
     },
     "execution_count": 11,
     "metadata": {},
     "output_type": "execute_result"
    }
   ],
   "source": [
    "df['GENH2'].value_counts()"
   ]
  },
  {
   "cell_type": "markdown",
   "metadata": {},
   "source": [
    "ibm is the most frequent category in the **Vendor Name** column.\n",
    "\n",
    "Next, let's explore the **Model Name** column."
   ]
  },
  {
   "cell_type": "code",
   "execution_count": 12,
   "metadata": {
    "ExecuteTime": {
     "end_time": "2024-03-10T15:36:11.129780Z",
     "start_time": "2024-03-10T15:36:11.112758Z"
    }
   },
   "outputs": [
    {
     "name": "stdout",
     "output_type": "stream",
     "text": [
      "Number of unique GENH1:  19\n",
      "Number  of instances of models:  305755\n"
     ]
    }
   ],
   "source": [
    "print('Number of unique GENH1: ', len(df['GENH1'].unique()))\n",
    "print('Number  of instances of models: ', len(df))"
   ]
  },
  {
   "cell_type": "markdown",
   "metadata": {},
   "source": [
    "We can see that **Model Name** is a unique identifier for each of the computer models. Thus this is not a variable that we can use to predict the estimated relative performance of computer models. So, we should not use this column for model building.\n"
   ]
  },
  {
   "cell_type": "markdown",
   "metadata": {},
   "source": [
    "Now, let's explore the numerical variables."
   ]
  },
  {
   "cell_type": "code",
   "execution_count": 13,
   "metadata": {
    "ExecuteTime": {
     "end_time": "2024-03-10T15:36:11.130659Z",
     "start_time": "2024-03-10T15:36:11.124153Z"
    }
   },
   "outputs": [
    {
     "name": "stdout",
     "output_type": "stream",
     "text": [
      "There are 0 numerical variables\n"
     ]
    }
   ],
   "source": [
    "# find numerical variables\n",
    "\n",
    "numerical = [col for col in df.columns if df[col].dtype!='O']\n",
    "print('There are {} numerical variables'.format(len(numerical)))"
   ]
  },
  {
   "cell_type": "code",
   "execution_count": 14,
   "metadata": {
    "ExecuteTime": {
     "end_time": "2024-03-10T15:36:11.130827Z",
     "start_time": "2024-03-10T15:36:11.126439Z"
    }
   },
   "outputs": [
    {
     "name": "stdout",
     "output_type": "stream",
     "text": [
      "[]\n"
     ]
    }
   ],
   "source": [
    "# view numerical variables\n",
    "\n",
    "print(numerical)"
   ]
  },
  {
   "cell_type": "markdown",
   "metadata": {},
   "source": [
    "So, there are eight numerical variables in the dataset. Let's explore more about them."
   ]
  },
  {
   "cell_type": "code",
   "execution_count": 15,
   "metadata": {
    "ExecuteTime": {
     "end_time": "2024-03-10T15:36:11.144699Z",
     "start_time": "2024-03-10T15:36:11.129977Z"
    }
   },
   "outputs": [
    {
     "data": {
      "text/plain": "Empty DataFrame\nColumns: []\nIndex: [0, 1, 2, 3, 4]",
      "text/html": "<div>\n<style scoped>\n    .dataframe tbody tr th:only-of-type {\n        vertical-align: middle;\n    }\n\n    .dataframe tbody tr th {\n        vertical-align: top;\n    }\n\n    .dataframe thead th {\n        text-align: right;\n    }\n</style>\n<table border=\"1\" class=\"dataframe\">\n  <thead>\n    <tr style=\"text-align: right;\">\n      <th></th>\n    </tr>\n  </thead>\n  <tbody>\n    <tr>\n      <th>0</th>\n    </tr>\n    <tr>\n      <th>1</th>\n    </tr>\n    <tr>\n      <th>2</th>\n    </tr>\n    <tr>\n      <th>3</th>\n    </tr>\n    <tr>\n      <th>4</th>\n    </tr>\n  </tbody>\n</table>\n</div>"
     },
     "execution_count": 15,
     "metadata": {},
     "output_type": "execute_result"
    }
   ],
   "source": [
    "# view the top 5 rows of numerical variables\n",
    "\n",
    "df[numerical].head()"
   ]
  },
  {
   "cell_type": "markdown",
   "metadata": {},
   "source": [
    "We can see that we have eight numerical variables in the dataset. All the eight numerical variables are of discrete type.\n",
    "\n",
    "On closer inspection, we find that **PRP** is a redundant column in the dataframe. It denotes **published relative performance**. Our target is to predict **estimated relative performance**. So, we should delete **PRP** from the dataframe."
   ]
  },
  {
   "cell_type": "markdown",
   "metadata": {},
   "source": [
    "**Summary : types of variables**\n",
    "\n",
    "\n",
    "- There are 2 categorical variables and 8 numerical variables.\n",
    "\n",
    "- The 2 categorical variables, **Vendor Name** and **Model Name** are 2 non-predictive attributes as given in the dataset description. So, I do not use them for model building.\n",
    "\n",
    "- All of the 8 numerical variables are of discrete type.\n",
    "\n",
    "- Out of the 8 numerical variables, **PRP** is the linear regression's guess. It is redundant column. I do not use it for model building.\n",
    "\n",
    "- **ERP** (estimated relative performance is the goal field). It is the target variable."
   ]
  },
  {
   "cell_type": "markdown",
   "metadata": {},
   "source": [
    "## 10. Detect problems within variables"
   ]
  },
  {
   "cell_type": "markdown",
   "metadata": {},
   "source": [
    "### Detect missing values"
   ]
  },
  {
   "cell_type": "code",
   "execution_count": 16,
   "metadata": {
    "ExecuteTime": {
     "end_time": "2024-03-10T15:36:11.647945Z",
     "start_time": "2024-03-10T15:36:11.619970Z"
    }
   },
   "outputs": [
    {
     "data": {
      "text/plain": "EGID           0\nSTRNAME        0\nDEINR          0\nDPLZ4          0\nGGDENAME       0\nGDEKT          0\nGKODE          0\nGKODN          0\nGSTAT          0\nGBAUJ          0\nGKAT           0\nGKLAS          0\nGAREA          0\nGASTW          0\nGANZWHG        0\nGWAERZH1       0\nGWAERZH1TXT    0\nGENH1          0\nGENH1TXT       0\nGWAERDATH1     0\nGWAERZH2       0\nGWAERZH2TXT    0\nGENH2          0\nGENH2TXT       0\nGWAERDATH2     0\ndtype: int64"
     },
     "execution_count": 16,
     "metadata": {},
     "output_type": "execute_result"
    }
   ],
   "source": [
    "# let's visualise the number of missing values\n",
    "df.isnull().sum()"
   ]
  },
  {
   "cell_type": "markdown",
   "metadata": {},
   "source": [
    "We can confirm that there are no missing values in the dataset."
   ]
  },
  {
   "cell_type": "markdown",
   "metadata": {},
   "source": [
    "### Outliers in discrete variables"
   ]
  },
  {
   "cell_type": "code",
   "execution_count": 17,
   "metadata": {
    "ExecuteTime": {
     "end_time": "2024-03-10T15:36:13.439910Z",
     "start_time": "2024-03-10T15:36:11.770824Z"
    }
   },
   "outputs": [
    {
     "data": {
      "text/plain": "          EGID       STRNAME   DEINR   DPLZ4 GGDENAME   GDEKT        GKODE  \\\ncount   305755        305755  305755  305755   305755  305755       305755   \nunique  291109         45705    5514    3162     2120      26       276055   \ntop     284686  Hauptstrasse       1    4153    Basel      BL  2670367.333   \nfreq        53          5009   12012    4485    20146   71691           53   \n\n              GKODN   GSTAT   GBAUJ  ... GWAERZH1  \\\ncount        305755  305755  305755  ...   305755   \nunique       273562       7     591  ...       20   \ntop     1201676.453    1004          ...     7430   \nfreq             53  287773   87711  ...   145787   \n\n                                   GWAERZH1TXT   GENH1 GENH1TXT  GWAERDATH1  \\\ncount                                   305755  305755   305755      305755   \nunique                                      20      19       19        5338   \ntop     Heizkessel (generisch) für ein Gebäude    7530   Heizöl  2020-05-19   \nfreq                                    145787   90624    90624       62874   \n\n       GWAERZH2         GWAERZH2TXT   GENH2 GENH2TXT  GWAERDATH2  \ncount    305755              305755  305755   305755      305755  \nunique       20                  20      20       20        5022  \ntop        7400  Kein Wärmeerzeuger    7500    Keine  2024-02-21  \nfreq     268058              268058  268059   268059       71756  \n\n[4 rows x 25 columns]",
      "text/html": "<div>\n<style scoped>\n    .dataframe tbody tr th:only-of-type {\n        vertical-align: middle;\n    }\n\n    .dataframe tbody tr th {\n        vertical-align: top;\n    }\n\n    .dataframe thead th {\n        text-align: right;\n    }\n</style>\n<table border=\"1\" class=\"dataframe\">\n  <thead>\n    <tr style=\"text-align: right;\">\n      <th></th>\n      <th>EGID</th>\n      <th>STRNAME</th>\n      <th>DEINR</th>\n      <th>DPLZ4</th>\n      <th>GGDENAME</th>\n      <th>GDEKT</th>\n      <th>GKODE</th>\n      <th>GKODN</th>\n      <th>GSTAT</th>\n      <th>GBAUJ</th>\n      <th>...</th>\n      <th>GWAERZH1</th>\n      <th>GWAERZH1TXT</th>\n      <th>GENH1</th>\n      <th>GENH1TXT</th>\n      <th>GWAERDATH1</th>\n      <th>GWAERZH2</th>\n      <th>GWAERZH2TXT</th>\n      <th>GENH2</th>\n      <th>GENH2TXT</th>\n      <th>GWAERDATH2</th>\n    </tr>\n  </thead>\n  <tbody>\n    <tr>\n      <th>count</th>\n      <td>305755</td>\n      <td>305755</td>\n      <td>305755</td>\n      <td>305755</td>\n      <td>305755</td>\n      <td>305755</td>\n      <td>305755</td>\n      <td>305755</td>\n      <td>305755</td>\n      <td>305755</td>\n      <td>...</td>\n      <td>305755</td>\n      <td>305755</td>\n      <td>305755</td>\n      <td>305755</td>\n      <td>305755</td>\n      <td>305755</td>\n      <td>305755</td>\n      <td>305755</td>\n      <td>305755</td>\n      <td>305755</td>\n    </tr>\n    <tr>\n      <th>unique</th>\n      <td>291109</td>\n      <td>45705</td>\n      <td>5514</td>\n      <td>3162</td>\n      <td>2120</td>\n      <td>26</td>\n      <td>276055</td>\n      <td>273562</td>\n      <td>7</td>\n      <td>591</td>\n      <td>...</td>\n      <td>20</td>\n      <td>20</td>\n      <td>19</td>\n      <td>19</td>\n      <td>5338</td>\n      <td>20</td>\n      <td>20</td>\n      <td>20</td>\n      <td>20</td>\n      <td>5022</td>\n    </tr>\n    <tr>\n      <th>top</th>\n      <td>284686</td>\n      <td>Hauptstrasse</td>\n      <td>1</td>\n      <td>4153</td>\n      <td>Basel</td>\n      <td>BL</td>\n      <td>2670367.333</td>\n      <td>1201676.453</td>\n      <td>1004</td>\n      <td></td>\n      <td>...</td>\n      <td>7430</td>\n      <td>Heizkessel (generisch) für ein Gebäude</td>\n      <td>7530</td>\n      <td>Heizöl</td>\n      <td>2020-05-19</td>\n      <td>7400</td>\n      <td>Kein Wärmeerzeuger</td>\n      <td>7500</td>\n      <td>Keine</td>\n      <td>2024-02-21</td>\n    </tr>\n    <tr>\n      <th>freq</th>\n      <td>53</td>\n      <td>5009</td>\n      <td>12012</td>\n      <td>4485</td>\n      <td>20146</td>\n      <td>71691</td>\n      <td>53</td>\n      <td>53</td>\n      <td>287773</td>\n      <td>87711</td>\n      <td>...</td>\n      <td>145787</td>\n      <td>145787</td>\n      <td>90624</td>\n      <td>90624</td>\n      <td>62874</td>\n      <td>268058</td>\n      <td>268058</td>\n      <td>268059</td>\n      <td>268059</td>\n      <td>71756</td>\n    </tr>\n  </tbody>\n</table>\n<p>4 rows × 25 columns</p>\n</div>"
     },
     "execution_count": 17,
     "metadata": {},
     "output_type": "execute_result"
    }
   ],
   "source": [
    "# let's view the summary statistics of the dataset\n",
    "df.describe()"
   ]
  },
  {
   "cell_type": "code",
   "execution_count": 18,
   "metadata": {
    "ExecuteTime": {
     "end_time": "2024-03-10T15:36:13.563333Z",
     "start_time": "2024-03-10T15:36:13.470656Z"
    }
   },
   "outputs": [
    {
     "name": "stdout",
     "output_type": "stream",
     "text": [
      "GBAUJ\n",
      "        0.286867\n",
      "2023    0.019754\n",
      "2022    0.017975\n",
      "2021    0.013203\n",
      "1900    0.012850\n",
      "          ...   \n",
      "1458    0.000003\n",
      "1313    0.000003\n",
      "1291    0.000003\n",
      "1288    0.000003\n",
      "1471    0.000003\n",
      "Name: count, Length: 591, dtype: float64\n",
      "\n",
      "GENH1\n",
      "7530    0.296394\n",
      "7520    0.240696\n",
      "7501    0.116453\n",
      "7580    0.088322\n",
      "7540    0.061069\n",
      "7511    0.055917\n",
      "7560    0.051894\n",
      "7510    0.038286\n",
      "7541    0.011961\n",
      "7542    0.009671\n",
      "7513    0.006692\n",
      "7581    0.005622\n",
      "7599    0.005187\n",
      "7598    0.004582\n",
      "7570    0.002842\n",
      "7543    0.002391\n",
      "7582    0.001374\n",
      "7512    0.000497\n",
      "7550    0.000150\n",
      "Name: count, dtype: float64\n",
      "\n",
      "GENH2\n",
      "7500    0.876712\n",
      "7560    0.031839\n",
      "7570    0.028627\n",
      "7540    0.026711\n",
      "7530    0.010590\n",
      "7541    0.006607\n",
      "7520    0.004778\n",
      "7501    0.003843\n",
      "7598    0.002420\n",
      "7513    0.002283\n",
      "7599    0.001936\n",
      "7542    0.001351\n",
      "7511    0.000906\n",
      "7580    0.000680\n",
      "7510    0.000363\n",
      "7543    0.000180\n",
      "7581    0.000059\n",
      "7512    0.000049\n",
      "7550    0.000036\n",
      "7582    0.000029\n",
      "Name: count, dtype: float64\n"
     ]
    }
   ],
   "source": [
    "# outlies in discrete variables\n",
    "\n",
    "for var in ['GBAUJ', 'GENH1', 'GENH2']:\n",
    "    print(df[var].value_counts() / float(len(df)))\n",
    "    print()"
   ]
  },
  {
   "cell_type": "code",
   "execution_count": 19,
   "metadata": {
    "ExecuteTime": {
     "end_time": "2024-03-10T15:36:15.751295Z",
     "start_time": "2024-03-10T15:36:13.557123Z"
    }
   },
   "outputs": [
    {
     "data": {
      "text/plain": "<Figure size 1600x1000 with 1 Axes>",
      "image/png": "[encoded data removed]"
     },
     "metadata": {},
     "output_type": "display_data"
    },
    {
     "data": {
      "text/plain": "<Figure size 1600x1000 with 1 Axes>",
      "image/png": "[encoded data removed]"
     },
     "metadata": {},
     "output_type": "display_data"
    },
    {
     "data": {
      "text/plain": "<Figure size 1600x1000 with 1 Axes>",
      "image/png": "[encoded data removed]"
     },
     "metadata": {},
     "output_type": "display_data"
    }
   ],
   "source": [
    "# detect outliers in discrete variables\n",
    "\n",
    "for var in ['GBAUJ', 'GENH1', 'GENH2']:\n",
    "    plt.figure(figsize=(16,10))\n",
    "    (df.groupby(var)[var].count() / float(len(df))).plot.bar()\n",
    "    plt.ylabel('Percentage of observations per label')\n",
    "    plt.title(var)\n",
    "    plt.show()"
   ]
  },
  {
   "cell_type": "markdown",
   "metadata": {},
   "source": [
    "From the above plot, we can see that the discrete variables show values that are shared by a tiny proportion of variable values\n",
    "in the dataset. For linear regression modeling, this does not cause any problem."
   ]
  },
  {
   "cell_type": "markdown",
   "metadata": {},
   "source": [
    "### Number of labels: cardinality\n",
    "\n",
    "Now, I will examine the categorical variable **Vendor Name**. First I will determine whether it show high cardinality. This is a high number of labels."
   ]
  },
  {
   "cell_type": "code",
   "execution_count": 20,
   "metadata": {
    "ExecuteTime": {
     "end_time": "2024-03-10T15:36:16.179091Z",
     "start_time": "2024-03-10T15:36:15.751835Z"
    }
   },
   "outputs": [
    {
     "ename": "KeyError",
     "evalue": "'Vendor Name'",
     "output_type": "error",
     "traceback": [
      "\u001B[0;31m---------------------------------------------------------------------------\u001B[0m",
      "\u001B[0;31mKeyError\u001B[0m                                  Traceback (most recent call last)",
      "File \u001B[0;32m~/anaconda3/envs/Machine-Learning/lib/python3.11/site-packages/pandas/core/indexes/base.py:3802\u001B[0m, in \u001B[0;36mIndex.get_loc\u001B[0;34m(self, key)\u001B[0m\n\u001B[1;32m   3801\u001B[0m \u001B[38;5;28;01mtry\u001B[39;00m:\n\u001B[0;32m-> 3802\u001B[0m     \u001B[38;5;28;01mreturn\u001B[39;00m \u001B[38;5;28;43mself\u001B[39;49m\u001B[38;5;241;43m.\u001B[39;49m\u001B[43m_engine\u001B[49m\u001B[38;5;241;43m.\u001B[39;49m\u001B[43mget_loc\u001B[49m\u001B[43m(\u001B[49m\u001B[43mcasted_key\u001B[49m\u001B[43m)\u001B[49m\n\u001B[1;32m   3803\u001B[0m \u001B[38;5;28;01mexcept\u001B[39;00m \u001B[38;5;167;01mKeyError\u001B[39;00m \u001B[38;5;28;01mas\u001B[39;00m err:\n",
      "File \u001B[0;32mindex.pyx:153\u001B[0m, in \u001B[0;36mpandas._libs.index.IndexEngine.get_loc\u001B[0;34m()\u001B[0m\n",
      "File \u001B[0;32mindex.pyx:182\u001B[0m, in \u001B[0;36mpandas._libs.index.IndexEngine.get_loc\u001B[0;34m()\u001B[0m\n",
      "File \u001B[0;32mpandas/_libs/hashtable_class_helper.pxi:7081\u001B[0m, in \u001B[0;36mpandas._libs.hashtable.PyObjectHashTable.get_item\u001B[0;34m()\u001B[0m\n",
      "File \u001B[0;32mpandas/_libs/hashtable_class_helper.pxi:7089\u001B[0m, in \u001B[0;36mpandas._libs.hashtable.PyObjectHashTable.get_item\u001B[0;34m()\u001B[0m\n",
      "\u001B[0;31mKeyError\u001B[0m: 'Vendor Name'",
      "\nThe above exception was the direct cause of the following exception:\n",
      "\u001B[0;31mKeyError\u001B[0m                                  Traceback (most recent call last)",
      "Cell \u001B[0;32mIn[20], line 4\u001B[0m\n\u001B[1;32m      1\u001B[0m \u001B[38;5;66;03m# plot the categorical variable\u001B[39;00m\n\u001B[1;32m      3\u001B[0m plt\u001B[38;5;241m.\u001B[39mfigure(figsize\u001B[38;5;241m=\u001B[39m(\u001B[38;5;241m12\u001B[39m,\u001B[38;5;241m8\u001B[39m))\n\u001B[0;32m----> 4\u001B[0m (\u001B[43mdf\u001B[49m\u001B[43m[\u001B[49m\u001B[38;5;124;43m'\u001B[39;49m\u001B[38;5;124;43mVendor Name\u001B[39;49m\u001B[38;5;124;43m'\u001B[39;49m\u001B[43m]\u001B[49m\u001B[38;5;241m.\u001B[39mvalue_counts())\u001B[38;5;241m.\u001B[39mplot\u001B[38;5;241m.\u001B[39mbar()\n\u001B[1;32m      5\u001B[0m plt\u001B[38;5;241m.\u001B[39mtitle(\u001B[38;5;124m'\u001B[39m\u001B[38;5;124mNumber of categories in Vendor Name variable\u001B[39m\u001B[38;5;124m'\u001B[39m)\n\u001B[1;32m      6\u001B[0m plt\u001B[38;5;241m.\u001B[39mxlabel(\u001B[38;5;124m'\u001B[39m\u001B[38;5;124mVendor Name\u001B[39m\u001B[38;5;124m'\u001B[39m)\n",
      "File \u001B[0;32m~/anaconda3/envs/Machine-Learning/lib/python3.11/site-packages/pandas/core/frame.py:4090\u001B[0m, in \u001B[0;36mDataFrame.__getitem__\u001B[0;34m(self, key)\u001B[0m\n\u001B[1;32m   4088\u001B[0m \u001B[38;5;28;01mif\u001B[39;00m \u001B[38;5;28mself\u001B[39m\u001B[38;5;241m.\u001B[39mcolumns\u001B[38;5;241m.\u001B[39mnlevels \u001B[38;5;241m>\u001B[39m \u001B[38;5;241m1\u001B[39m:\n\u001B[1;32m   4089\u001B[0m     \u001B[38;5;28;01mreturn\u001B[39;00m \u001B[38;5;28mself\u001B[39m\u001B[38;5;241m.\u001B[39m_getitem_multilevel(key)\n\u001B[0;32m-> 4090\u001B[0m indexer \u001B[38;5;241m=\u001B[39m \u001B[38;5;28;43mself\u001B[39;49m\u001B[38;5;241;43m.\u001B[39;49m\u001B[43mcolumns\u001B[49m\u001B[38;5;241;43m.\u001B[39;49m\u001B[43mget_loc\u001B[49m\u001B[43m(\u001B[49m\u001B[43mkey\u001B[49m\u001B[43m)\u001B[49m\n\u001B[1;32m   4091\u001B[0m \u001B[38;5;28;01mif\u001B[39;00m is_integer(indexer):\n\u001B[1;32m   4092\u001B[0m     indexer \u001B[38;5;241m=\u001B[39m [indexer]\n",
      "File \u001B[0;32m~/anaconda3/envs/Machine-Learning/lib/python3.11/site-packages/pandas/core/indexes/base.py:3809\u001B[0m, in \u001B[0;36mIndex.get_loc\u001B[0;34m(self, key)\u001B[0m\n\u001B[1;32m   3804\u001B[0m     \u001B[38;5;28;01mif\u001B[39;00m \u001B[38;5;28misinstance\u001B[39m(casted_key, \u001B[38;5;28mslice\u001B[39m) \u001B[38;5;129;01mor\u001B[39;00m (\n\u001B[1;32m   3805\u001B[0m         \u001B[38;5;28misinstance\u001B[39m(casted_key, abc\u001B[38;5;241m.\u001B[39mIterable)\n\u001B[1;32m   3806\u001B[0m         \u001B[38;5;129;01mand\u001B[39;00m \u001B[38;5;28many\u001B[39m(\u001B[38;5;28misinstance\u001B[39m(x, \u001B[38;5;28mslice\u001B[39m) \u001B[38;5;28;01mfor\u001B[39;00m x \u001B[38;5;129;01min\u001B[39;00m casted_key)\n\u001B[1;32m   3807\u001B[0m     ):\n\u001B[1;32m   3808\u001B[0m         \u001B[38;5;28;01mraise\u001B[39;00m InvalidIndexError(key)\n\u001B[0;32m-> 3809\u001B[0m     \u001B[38;5;28;01mraise\u001B[39;00m \u001B[38;5;167;01mKeyError\u001B[39;00m(key) \u001B[38;5;28;01mfrom\u001B[39;00m \u001B[38;5;21;01merr\u001B[39;00m\n\u001B[1;32m   3810\u001B[0m \u001B[38;5;28;01mexcept\u001B[39;00m \u001B[38;5;167;01mTypeError\u001B[39;00m:\n\u001B[1;32m   3811\u001B[0m     \u001B[38;5;66;03m# If we have a listlike key, _check_indexing_error will raise\u001B[39;00m\n\u001B[1;32m   3812\u001B[0m     \u001B[38;5;66;03m#  InvalidIndexError. Otherwise we fall through and re-raise\u001B[39;00m\n\u001B[1;32m   3813\u001B[0m     \u001B[38;5;66;03m#  the TypeError.\u001B[39;00m\n\u001B[1;32m   3814\u001B[0m     \u001B[38;5;28mself\u001B[39m\u001B[38;5;241m.\u001B[39m_check_indexing_error(key)\n",
      "\u001B[0;31mKeyError\u001B[0m: 'Vendor Name'"
     ]
    },
    {
     "data": {
      "text/plain": "<Figure size 1200x800 with 0 Axes>"
     },
     "metadata": {},
     "output_type": "display_data"
    }
   ],
   "source": [
    "# plot the categorical variable\n",
    "\n",
    "plt.figure(figsize=(12,8))\n",
    "(df['Vendor Name'].value_counts()).plot.bar()\n",
    "plt.title('Number of categories in Vendor Name variable')\n",
    "plt.xlabel('Vendor Name')\n",
    "plt.ylabel('Number of different categories')\n",
    "plt.show()\n"
   ]
  },
  {
   "cell_type": "markdown",
   "metadata": {},
   "source": [
    "We can see that the **Vendor Name** variable, contain only a few labels. So, we do not have to deal with high cardinality."
   ]
  },
  {
   "cell_type": "markdown",
   "metadata": {},
   "source": [
    "## 11. Linear Regression Modeling\n",
    "\n",
    "\n",
    "Now, I discuss the most important part of this project which is the Linear Regression model building. \n",
    "\n",
    "First of all, I will divide the dataset into categorical and numerical variables as follows:-"
   ]
  },
  {
   "cell_type": "markdown",
   "metadata": {},
   "source": [
    "### Divide the dataset into categorical and numerical variables\n",
    "\n"
   ]
  },
  {
   "cell_type": "code",
   "execution_count": null,
   "metadata": {
    "ExecuteTime": {
     "start_time": "2024-03-10T15:36:16.178990Z"
    }
   },
   "outputs": [],
   "source": [
    "df_cat = df.iloc[:,:2]\n",
    "\n",
    "df_num = df.iloc[:, 2:]"
   ]
  },
  {
   "cell_type": "code",
   "execution_count": null,
   "metadata": {
    "ExecuteTime": {
     "start_time": "2024-03-10T15:36:16.180153Z"
    }
   },
   "outputs": [],
   "source": [
    "df_num.head()"
   ]
  },
  {
   "cell_type": "markdown",
   "metadata": {},
   "source": [
    "### Select the predictor and target variables\n"
   ]
  },
  {
   "cell_type": "code",
   "execution_count": null,
   "metadata": {
    "ExecuteTime": {
     "start_time": "2024-03-10T15:36:16.181397Z"
    }
   },
   "outputs": [],
   "source": [
    "X = df_num.iloc[:,0:6]\n",
    "\n",
    "y = df_num.iloc[:,-1]\n",
    "\n",
    "print(X.head())\n",
    "print(y.head())"
   ]
  },
  {
   "cell_type": "markdown",
   "metadata": {},
   "source": [
    "### Create separate train and test sets"
   ]
  },
  {
   "cell_type": "code",
   "execution_count": null,
   "metadata": {
    "ExecuteTime": {
     "end_time": "2024-03-10T15:36:16.183357Z",
     "start_time": "2024-03-10T15:36:16.182757Z"
    }
   },
   "outputs": [],
   "source": [
    "from sklearn.model_selection import train_test_split\n",
    "\n",
    "X_train, X_test, y_train, y_test = train_test_split(X,y,test_size = 0.3,random_state = 0)"
   ]
  },
  {
   "cell_type": "markdown",
   "metadata": {},
   "source": [
    "### View the dimensions of X_train, X_test, y_train, y_test"
   ]
  },
  {
   "cell_type": "code",
   "execution_count": null,
   "metadata": {
    "ExecuteTime": {
     "start_time": "2024-03-10T15:36:16.183971Z"
    }
   },
   "outputs": [],
   "source": [
    "X_train.shape, y_train.shape"
   ]
  },
  {
   "cell_type": "code",
   "execution_count": null,
   "metadata": {
    "ExecuteTime": {
     "start_time": "2024-03-10T15:36:16.185276Z"
    }
   },
   "outputs": [],
   "source": [
    "X_test.shape, y_test.shape"
   ]
  },
  {
   "cell_type": "code",
   "execution_count": null,
   "metadata": {
    "ExecuteTime": {
     "start_time": "2024-03-10T15:36:16.186492Z"
    }
   },
   "outputs": [],
   "source": [
    "# let's inspect the training dataframe\n",
    "\n",
    "X_train.head()"
   ]
  },
  {
   "cell_type": "code",
   "execution_count": null,
   "metadata": {
    "ExecuteTime": {
     "start_time": "2024-03-10T15:36:16.187802Z"
    }
   },
   "outputs": [],
   "source": [
    "X_train.describe()"
   ]
  },
  {
   "cell_type": "markdown",
   "metadata": {},
   "source": [
    "### Feature Scaling\n"
   ]
  },
  {
   "cell_type": "code",
   "execution_count": null,
   "metadata": {
    "ExecuteTime": {
     "start_time": "2024-03-10T15:36:16.189187Z"
    }
   },
   "outputs": [],
   "source": [
    "# Feature Scaling - I use the StandardScaler from sklearn\n",
    "\n",
    "# import the StandardScaler class from preprocessing library\n",
    "from sklearn.preprocessing import StandardScaler\n",
    "\n",
    "# instantiate an object scaler\n",
    "scaler = StandardScaler()\n",
    "\n",
    "# fit the scaler to the training set and then transform it\n",
    "X_train = scaler.fit_transform(X_train)\n",
    "\n",
    "# transform the test set\n",
    "X_test = scaler.transform(X_test)\n",
    "\n",
    "\n"
   ]
  },
  {
   "cell_type": "markdown",
   "metadata": {},
   "source": [
    "The scaler is now ready, we can use it in a machine learning algorithm when required."
   ]
  },
  {
   "cell_type": "markdown",
   "metadata": {},
   "source": [
    "### Fit the Linear Regression model"
   ]
  },
  {
   "cell_type": "code",
   "execution_count": null,
   "metadata": {
    "ExecuteTime": {
     "end_time": "2024-03-10T15:36:16.193841Z",
     "start_time": "2024-03-10T15:36:16.190660Z"
    }
   },
   "outputs": [],
   "source": [
    "# fit the linear regression model\n",
    "\n",
    "# import the LinearRegression class from linear_model library\n",
    "from sklearn.linear_model import LinearRegression\n",
    "\n",
    "# instantiate an object lr\n",
    "lr = LinearRegression()\n",
    "\n",
    "\n",
    "# Train the model using the training sets\n",
    "lr.fit(X_train, y_train)\n"
   ]
  },
  {
   "cell_type": "markdown",
   "metadata": {},
   "source": [
    "## 12. Predicting the results\n",
    "\n",
    "\n",
    "I have built the linear regression model. Now it is time to predict the results."
   ]
  },
  {
   "cell_type": "markdown",
   "metadata": {},
   "source": [
    "### Predicting the test set results"
   ]
  },
  {
   "cell_type": "code",
   "execution_count": null,
   "metadata": {
    "ExecuteTime": {
     "start_time": "2024-03-10T15:36:16.191832Z"
    }
   },
   "outputs": [],
   "source": [
    "# Predict on the test data set\n",
    "y_pred = lr.predict(X_test)"
   ]
  },
  {
   "cell_type": "markdown",
   "metadata": {},
   "source": [
    "### Predicting estimated relative CPU performance values"
   ]
  },
  {
   "cell_type": "code",
   "execution_count": null,
   "metadata": {
    "ExecuteTime": {
     "start_time": "2024-03-10T15:36:16.193089Z"
    }
   },
   "outputs": [],
   "source": [
    "#print(\"Predicted ERP - estimated relative performance for the first five values\")\n",
    "\n",
    "lr.predict(X_test)[0:5]"
   ]
  },
  {
   "cell_type": "markdown",
   "metadata": {},
   "source": [
    "## 13. Model slope and intercept terms"
   ]
  },
  {
   "cell_type": "markdown",
   "metadata": {},
   "source": [
    "The slope parameters(w) are also called weights or coefficients. They are stored in the **coef_** attribute.\n",
    "\n",
    "The offset or intercept(b) is stored in the **intercept_** attribute.\n",
    "\n",
    "So, the model slope is given by **lr.coef_** and model intercept term is given by **lr.intercept_**."
   ]
  },
  {
   "cell_type": "code",
   "execution_count": null,
   "metadata": {
    "ExecuteTime": {
     "end_time": "2024-03-10T15:36:16.197225Z",
     "start_time": "2024-03-10T15:36:16.194367Z"
    }
   },
   "outputs": [],
   "source": [
    "print(\"Number of coefficients:\", len(lr.coef_))\n",
    "\n",
    "print(\"Estimated coefficients: {}\".format(lr.coef_))\n",
    "\n",
    "print(\"Estimated intercept: {}\".format(lr.intercept_))"
   ]
  },
  {
   "cell_type": "markdown",
   "metadata": {},
   "source": [
    "I constructed a dataframe that contains features and estimated coefficients. "
   ]
  },
  {
   "cell_type": "code",
   "execution_count": null,
   "metadata": {
    "ExecuteTime": {
     "start_time": "2024-03-10T15:36:16.195280Z"
    }
   },
   "outputs": [],
   "source": [
    "dataset = list(zip(pd.DataFrame(X_train).columns, lr.coef_))\n",
    "\n",
    "pd.DataFrame(data = dataset, columns = ['Features', 'Estimated Coefficients']).set_index('Features')"
   ]
  },
  {
   "cell_type": "markdown",
   "metadata": {},
   "source": [
    "## 14. Evaluate model performance\n",
    "\n",
    "\n",
    "I have built the linear regression model and use it to predict the results. Now, it is the time to evaluate the model performance. We want to understand the outcome of our model and we want to know whether the performance is acceptable or not. \n",
    "For regression problems, there are several ways to evaluate the model performance. These are listed below:-\n",
    "\n",
    "\n",
    "•\tRMSE (Root Mean Square Error)\n",
    "\n",
    "•\tR2 Score\n",
    "\n",
    "•\tOverfitting Vs Underfitting\n",
    "\n",
    "•\tCross validation\n",
    "\n",
    "•\tResidual analysis\n",
    "\n",
    "•\tNormality test\n",
    "\n",
    "I have described these measures in following sections:-\n"
   ]
  },
  {
   "cell_type": "markdown",
   "metadata": {},
   "source": [
    "### i.\tRMSE\n",
    "\n",
    "RMSE stands for **Root Mean Square Error**. RMSE is the standard deviation of the residuals. RMSE gives us the standard deviation of the unexplained variance by the model. It can be calculated by taking square root of Mean Squared Error.\n",
    "\n",
    "\n",
    "RMSE is an absolute measure of fit. It gives us how spread the residuals are, given by the standard deviation of the residuals. The more concentrated the data is around the regression line, the lower the residuals and hence lower the standard deviation of residuals. It results in lower values of RMSE. So, lower values of RMSE indicate better fit of data. \n",
    "\n",
    "RMSE can be calculated as follows:-"
   ]
  },
  {
   "cell_type": "code",
   "execution_count": null,
   "metadata": {
    "ExecuteTime": {
     "start_time": "2024-03-10T15:36:16.196078Z"
    }
   },
   "outputs": [],
   "source": [
    "# RMSE(Root Mean Square Error)\n",
    "\n",
    "from sklearn.metrics import mean_squared_error\n",
    "mse = mean_squared_error(y_test, y_pred)\n",
    "rmse = np.sqrt(mse)\n",
    "print(\"RMSE value : {:.2f}\".format(rmse))"
   ]
  },
  {
   "cell_type": "markdown",
   "metadata": {},
   "source": [
    "### Interpretation\n",
    "\n",
    "The RMSE value has been found to be 37.99. It means the standard deviation for our prediction is 37.99. So, sometimes we expect the predictions to be off by more than 37.99 and other times we expect less than 37.99. "
   ]
  },
  {
   "cell_type": "markdown",
   "metadata": {},
   "source": [
    "### ii. R2 Score\n",
    "\n",
    "R2 Score is another metric to evaluate performance of a regression model. It is also called **Coefficient of Determination**. It gives us an idea of goodness of fit for the linear regression models. It indicates the percentage of variance that is explained by the model. \n",
    "\n",
    "\n",
    "**R2 Score = Explained Variation/Total Variation**\n",
    "\n",
    "\n",
    "\n",
    "Mathematically, we have\n",
    "\n",
    "\n",
    "\n",
    "$$R^2=1-\\frac{SS_{res}}{SS_{tot}}$$\n",
    "\n",
    "\n",
    "The total sum of squares, $SS_{tot}=\\sum_i(y_i-\\bar{y})^2$\n",
    "\n",
    "The regression sum of squares (explained sum of squares), $SS_{reg}=\\sum_i(f_i-\\bar{y})^2$\n",
    "\n",
    "The sum of squares of residuals (residual sum of squares), $SS_{res}=\\sum_i(y_i-f_i)^2 = \\sum_ie^2_i$\n",
    "\n",
    "\n",
    "\n",
    "\n",
    "In general, the higher the R2 Score value, the better the model fits the data. Usually, its value ranges from 0 to 1. So, we want its value to be as close to 1. Its value can become negative if our model is wrong.\n",
    "\n",
    "\n",
    "\n",
    "R2 score value can be found as follows:-\n"
   ]
  },
  {
   "cell_type": "code",
   "execution_count": null,
   "metadata": {
    "ExecuteTime": {
     "start_time": "2024-03-10T15:36:16.196763Z"
    }
   },
   "outputs": [],
   "source": [
    "# R2 Score\n",
    "\n",
    "from sklearn.metrics import r2_score\n",
    "print(\"R2 Score value: {:.2f}\".format(r2_score(y_test, y_pred)))"
   ]
  },
  {
   "cell_type": "markdown",
   "metadata": {},
   "source": [
    "### Interpretation\n",
    "\n",
    "\n",
    "In business decisions, the benchmark for the R2 score value is 0.7. It means if R2 score value >= 0.7, then the model is good enough to deploy on unseen data whereas if R2 score value < 0.7, then the model is not good enough to deploy. \n",
    "\n",
    "Our R2 score value has been found to be 0.92. It means that this model explains 92% of the variance in our dependent variable. The R2 score value points to an acceptable model. However, we need to look at residuals."
   ]
  },
  {
   "cell_type": "markdown",
   "metadata": {},
   "source": [
    "### iii. Overfitting Vs Underfitting"
   ]
  },
  {
   "cell_type": "code",
   "execution_count": null,
   "metadata": {
    "ExecuteTime": {
     "end_time": "2024-03-10T15:36:16.198425Z",
     "start_time": "2024-03-10T15:36:16.197493Z"
    }
   },
   "outputs": [],
   "source": [
    "# Evaluating training set performance\n",
    "\n",
    "print(\"Training set score: {:.2f}\".format(lr.score(X_train, y_train)))"
   ]
  },
  {
   "cell_type": "code",
   "execution_count": null,
   "metadata": {
    "ExecuteTime": {
     "start_time": "2024-03-10T15:36:16.198184Z"
    }
   },
   "outputs": [],
   "source": [
    "# Evaluating test set performance\n",
    "\n",
    "print(\"Test set score: {:.2f}\".format(lr.score(X_test, y_test)))"
   ]
  },
  {
   "cell_type": "markdown",
   "metadata": {},
   "source": [
    "### Interpretation \n",
    "\n",
    "Training set and test set performances are comparable. An R Square value of 0.92 is very good."
   ]
  },
  {
   "cell_type": "markdown",
   "metadata": {},
   "source": [
    "### iv. Cross validation\n",
    "\n",
    "\n",
    "Cross-validation is a vital step in evaluating a model. It maximizes the amount of data that is used to train the model. \n",
    "\n",
    "In cross-validation, we split the training data into several subgroups. Then we use each of them in turn to evaluate the model \n",
    "fitted on the remaining portion of the data.\n",
    "\n",
    "It helps us to obtain reliable estimates of the model's generalization performance. So, it helps us to understand how well\n",
    "the model performs on unseen data.\n",
    "\n",
    "We can perform cross validation as follows:-"
   ]
  },
  {
   "cell_type": "code",
   "execution_count": null,
   "metadata": {
    "ExecuteTime": {
     "start_time": "2024-03-10T15:36:16.198956Z"
    }
   },
   "outputs": [],
   "source": [
    "# import the library\n",
    "from sklearn.model_selection import cross_val_score\n",
    "\n",
    "# Compute 5-fold cross-validation scores: cv_scores\n",
    "cv_scores = cross_val_score(lr, X, y, cv=5)\n"
   ]
  },
  {
   "cell_type": "code",
   "execution_count": null,
   "metadata": {
    "ExecuteTime": {
     "start_time": "2024-03-10T15:36:16.199763Z"
    }
   },
   "outputs": [],
   "source": [
    "# print the 5-fold cross-validation scores\n",
    "print(cv_scores.round(4))"
   ]
  },
  {
   "cell_type": "code",
   "execution_count": null,
   "metadata": {
    "ExecuteTime": {
     "start_time": "2024-03-10T15:36:16.200597Z"
    }
   },
   "outputs": [],
   "source": [
    "# print the avarage 5-fold cross-validation scores\n",
    "print(\"Average 5-Fold CV Score: {}\".format(np.mean(cv_scores).round(4)))"
   ]
  },
  {
   "cell_type": "markdown",
   "metadata": {},
   "source": [
    "**Interpretation**\n",
    "\n",
    "There is a large fluctuation in the cross validation scores of the model. \n",
    "\n",
    "The average 5-fold cross validation score is very poor and hence the linear regression model is not a great fit to the data."
   ]
  },
  {
   "cell_type": "markdown",
   "metadata": {},
   "source": [
    "### v. Residual analysis\n",
    "\n",
    "\n",
    "A linear regression model may not represent the data appropriately. The model may be a poor fit to the data. So, we should validate our model by defining and examining residual plots. The difference between the observed value of the dependent variable (y) and the predicted value (ŷi) is called the **residual** and is denoted by e. The scatter-plot of these residuals is called **residual plot**.\n",
    "\n",
    "\n",
    "If the data points in a residual plot are randomly dispersed around horizontal axis and an approximate zero residual mean, a linear regression model may be appropriate for the data. Otherwise a non-linear model may be more appropriate.\n",
    "\n",
    "\n",
    "Now, I will plot the residual errors. "
   ]
  },
  {
   "cell_type": "code",
   "execution_count": null,
   "metadata": {
    "ExecuteTime": {
     "start_time": "2024-03-10T15:36:16.201290Z"
    }
   },
   "outputs": [],
   "source": [
    "\n",
    "# Plot for residual error\n",
    "%matplotlib inline\n",
    "# adjust the figure size\n",
    "plt.figure(figsize=(10,8))\n",
    "\n",
    "# plotting residual errors in training data\n",
    "plt.scatter(lr.predict(X_train), lr.predict(X_train) - y_train, c = 'g', s = 40, label = 'Train data', alpha = 0.5)\n",
    "\n",
    "\n",
    "# plotting residual errors in test data\n",
    "plt.scatter(lr.predict(X_test), lr.predict(X_test) - y_test, c = 'r', s = 40, label = 'Test data')\n",
    "\n",
    "# plotting line for zero residual error\n",
    "plt.hlines(y = 0, xmin = -100, xmax = 1000, linewidth = 3)\n",
    "\n",
    "# plotting legend\n",
    "plt.legend(loc = 'upper right')\n",
    "\n",
    "# plot title\n",
    "plt.title(\"Residual errors plot\")\n",
    "\n",
    "# function to show plot\n",
    "plt.show()"
   ]
  },
  {
   "cell_type": "markdown",
   "metadata": {},
   "source": [
    "### Interpretation of residual plots\n",
    "\n",
    "What do you think of these plots? Remember we are dealing with multivariate regression.\n",
    "We have to look at more than one set of plots!\n",
    "\n",
    "A regression model that has nicely fit the data will have its residuals display randomness (i.e., lack of any pattern). This comes from the **homoscedasticity** assumption of regression modeling. Typically scatter plots between residuals and predictors are used to confirm the assumption. Any pattern in the scatter-plot, results in a violation of this property and points towards a poor fitting model.\n",
    "\n",
    "Residual errors plot from a good model show that the data is randomly scattered around line zero. The plot does not display any pattern in the residuals. \n",
    "We see a pattern, and we see that the residuals are larger when x grows, which is a sign of heteroscedasticity.\n",
    "Hence, we can conclude that the Linear Regression model is not a good fit to these data."
   ]
  },
  {
   "cell_type": "markdown",
   "metadata": {},
   "source": [
    "### vi. Normality test (Q-Q Plot)\n",
    "\n",
    "This is a visual or graphical test to check for normality of the data. This test helps us identify outliers and skewness. The test is performed by plotting the data verses theoretical quartiles. The same data is also plotted on a histogram to confirm normality.\n",
    "\n",
    "Any deviation from the straight line in normal plot or skewness/multi-modality in histogram shows that the data does not pass the normality test.\n",
    "\n",
    "\n",
    "Now, I will plot the Q-Q Plot as follows:-\n"
   ]
  },
  {
   "cell_type": "code",
   "execution_count": null,
   "metadata": {
    "ExecuteTime": {
     "start_time": "2024-03-10T15:36:16.201901Z"
    }
   },
   "outputs": [],
   "source": [
    "# plotting the Q-Q plot\n",
    "\n",
    "import pylab \n",
    "import scipy.stats as stats\n",
    "\n",
    "\n",
    "for var in ['MYCT', 'MMIN', 'MMAX', 'CACH', 'CHMIN', 'CHMAX']:\n",
    "    \n",
    "    plt.figure(figsize=(15,6))\n",
    "\n",
    "    plt.subplot(1, 2, 1)\n",
    "    df[var].hist()\n",
    "    plt.title('Distribution of '+ var)\n",
    "\n",
    "    plt.subplot(1, 2, 2)\n",
    "    stats.probplot(df[var], dist=\"norm\", plot=pylab)\n",
    "    plt.title('Q-Q plot of '+ var)\n",
    "\n",
    "    plt.show() \n"
   ]
  },
  {
   "cell_type": "markdown",
   "metadata": {},
   "source": [
    "**Interpretation**\n",
    "\n",
    "\n",
    "From the distribution plots, we can see that all the above variables are positively skewed. The Q-Q plot of all the variables confirm that the variables are not normally distributed.\n",
    "\n",
    "Hence, the variables do not pass the normality test."
   ]
  },
  {
   "cell_type": "markdown",
   "metadata": {},
   "source": [
    "## 15. Conclusion\n",
    "\n",
    "\n",
    "\n",
    "I carry out residual analysis to check for homoscedasticity assumption. Residual errors plot show that the data is randomly scattered around line zero. The plot does not display any pattern in the residuals.  Hence, we can conclude that the Linear Regression model is a good fit to the data.\n",
    "\n",
    "\n",
    "The r-squared or the coefficient of determination is 0.4691 on an average for 5-fold cross validation. It means that the predictor is only able to explain 46.91% of the variance in the target variable. This indicates that the model is not a good fit to the data.\n",
    "\n",
    "\n",
    "I carry out normality test to check for distribution of the variables. We can see that the variables do not follow the normal distribution. The Q-Q plots confirm the same.\n",
    "\n",
    "\n",
    "So, we can conclude that the linear regression model is unable to model the data to generate decent results. It should be noted that the model is performing equally on both training and testing datasets. It seems like a case where we would need to model this data using methods that can model non-linear relationships. Also variables need to be transformed to satisfy the normality assumption.\n",
    "\n",
    "\n"
   ]
  },
  {
   "cell_type": "code",
   "execution_count": null,
   "outputs": [],
   "source": [],
   "metadata": {
    "collapsed": false,
    "ExecuteTime": {
     "start_time": "2024-03-10T15:36:16.202527Z"
    }
   }
  }
 ],
 "metadata": {
  "kernelspec": {
   "display_name": "Python 3 (ipykernel)",
   "language": "python",
   "name": "python3"
  },
  "language_info": {
   "codemirror_mode": {
    "name": "ipython",
    "version": 3
   },
   "file_extension": ".py",
   "mimetype": "text/x-python",
   "name": "python",
   "nbconvert_exporter": "python",
   "pygments_lexer": "ipython3",
   "version": "3.10.9"
  }
 },
 "nbformat": 4,
 "nbformat_minor": 2
}
