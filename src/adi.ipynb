{
 "cells": [
  {
   "cell_type": "markdown",
   "id": "66180b12",
   "metadata": {},
   "source": [
    "This notebook demonstrates the process of implementing logistic regression from scratch using gradient descent.\n",
    "The dataset used is the Wine Dataset from the UCI Machine Learning Repository. This dataset contains the results of\n",
    "a chemical analysis of wines grown in the same region in Italy by three different cultivators. There are 13 different\n",
    "measurements taken for different constituents found in the three types of wine.\n",
    "\n",
    "We will be focusing on using 'alcohol' and 'ash' as features to predict the 'class' of the wine.\n",
    "However, the implementation will be generalizable to use any number of features."
   ]
  },
  {
   "cell_type": "code",
   "execution_count": 29,
   "id": "a460b321",
   "metadata": {
    "ExecuteTime": {
     "end_time": "2024-03-12T16:52:13.872225Z",
     "start_time": "2024-03-12T16:52:13.838547Z"
    }
   },
   "outputs": [],
   "source": [
    "# Import necessary libraries\n",
    "\n",
    "import numpy as np\n",
    "import pandas as pd\n",
    "import matplotlib.pyplot as plt\n",
    "from sqlalchemy import create_engine\n",
    "from sklearn.preprocessing import LabelEncoder\n",
    "from matplotlib.colors import ListedColormap\n"
   ]
  },
  {
   "cell_type": "markdown",
   "id": "80cd710c",
   "metadata": {},
   "source": [
    "First, we will load the wine dataset using Pandas, selecting 'alcohol' and 'ash' as our features and 'class' as our target.\n"
   ]
  },
  {
   "cell_type": "code",
   "execution_count": 30,
   "id": "74e59ce5",
   "metadata": {
    "ExecuteTime": {
     "end_time": "2024-03-12T16:52:13.917033Z",
     "start_time": "2024-03-12T16:52:13.844343Z"
    }
   },
   "outputs": [
    {
     "name": "stdout",
     "output_type": "stream",
     "text": [
      "    ZIP GBAUJ  FlAECHE GWAERZH1                                 GWAERZH1TXT  \\\n",
      "0  8914  2000      498     7410                  Wärmepumpe für ein Gebäude   \n",
      "1  8914  2000      180     7430      Heizkessel (generisch) für ein Gebäude   \n",
      "2  8914  1993      216     7431  Heizkessel (generisch) für mehrere Gebäude   \n",
      "3  8914  1845      495     7430      Heizkessel (generisch) für ein Gebäude   \n",
      "4  8914  1900      626     7436                                        Ofen   \n",
      "\n",
      "  GENH1       GENH1TXT  GWAERDATH1  CATEGORY  \n",
      "0  7511  Erdwärmesonde  2023-10-02         0  \n",
      "1  7530         Heizöl  2002-09-05         1  \n",
      "2  7530         Heizöl  2002-09-05         1  \n",
      "3  7530         Heizöl  2001-11-29         1  \n",
      "4  7530         Heizöl  2014-01-14         1  \n",
      "[[1.         0.97560976 0.498     ]\n",
      " [1.         0.96926829 0.111     ]\n",
      " [1.         0.96878049 0.096     ]\n",
      " [1.         0.96926829 0.618     ]\n",
      " [1.         0.97560976 0.18      ]\n",
      " [1.         0.92682927 0.626     ]\n",
      " [1.         0.9        0.495     ]]\n",
      "[0 0 1 1 1 1 1]\n"
     ]
    }
   ],
   "source": [
    "# Load dataset\n",
    "engine = create_engine('sqlite:///../data/data.sqlite')\n",
    "\n",
    "query_training_data = \"\"\"SELECT * FROM (select DPLZ4 as ZIP,\n",
    "             GBAUJ,\n",
    "             GAREA * GASTW as FlAECHE,\n",
    "             GWAERZH1,\n",
    "             w1.CODTXTLD   as GWAERZH1TXT,\n",
    "             GENH1,\n",
    "             c1.CODTXTLD   as GENH1TXT,\n",
    "             GWAERDATH1\n",
    "      from building b,\n",
    "           entrance e,\n",
    "           (select CECODID, CODTXTLD from codes WHERE CMERKM = 'GWAERZH1') w1,\n",
    "           (select CECODID, CODTXTLD from codes WHERE CMERKM = 'GENH1') c1\n",
    "      WHERE b.GABBJ == ''\n",
    "        AND (GENH1 NOT IN ('', '7500', '7598') OR GENH2 NOT IN ('', '7500', '7598'))\n",
    "        AND b.GWAERZH1 = w1.CECODID\n",
    "        AND b.GENH1 = c1.CECODID\n",
    "        AND e.EGID = b.EGID\n",
    "        AND (GSTAT NOT in ('1005', '1007', '1008'))) LIMIT 10\"\"\"\n",
    "\n",
    "df_original = pd.read_sql_query(query_training_data, engine)\n",
    "le = LabelEncoder()\n",
    "df_original['CATEGORY'] = le.fit_transform(df_original['GENH1'])\n",
    "print(df_original.head())\n",
    "\n",
    "df = df_original.drop(columns=['ZIP', 'GWAERZH1', 'GWAERZH1TXT', 'GENH1', 'GENH1TXT', 'GWAERDATH1'])\n",
    "\n",
    "df['GBAUJ'] = pd.to_numeric(df['GBAUJ'], errors='coerce') / 2050\n",
    "df['FlAECHE'] = df['FlAECHE'] / 1000\n",
    "\n",
    "# Separate features and target\n",
    "X = df[['GBAUJ', 'FlAECHE']].values\n",
    "y = df['CATEGORY'].values\n",
    "\n",
    "# Convert class labels to binary (class 1 vs others class)\n",
    "y = (y == 1).astype(int)\n",
    "\n",
    "# Add intercept term\n",
    "X = np.concatenate([np.ones((X.shape[0], 1)), X], axis=1)\n",
    "\n",
    "from sklearn.model_selection import train_test_split\n",
    "X_train, X_test, y_train, y_test = train_test_split(X, y)\n",
    "print(X_train)\n",
    "print(y_train)\n"
   ]
  },
  {
   "cell_type": "markdown",
   "id": "6076fcd6",
   "metadata": {},
   "source": [
    "With our data loaded, we now define the necessary functions for logistic regression:\n",
    "\n",
    "- **Sigmoid Function**: This function maps any real-valued number into the range of 0 to 1, which is useful when our outcome is binary.\n",
    "\n",
    "- **Cost Function**: Also known as the log-loss or binary cross-entropy loss, measures the performance of our model. It quantifies the difference between the predicted values and the actual values.\n",
    "\n",
    "- **Gradient Function**: This computes the gradient of the cost function. The gradient is used to update the parameters.\n",
    "\n",
    "- **Gradient Descent Function**: This function iteratively adjusts the parameters to minimize the cost function.\n",
    "\n",
    "- **Prediction Function**: Generates predictions based on learned model parameters by applying a threshold of 0.5.\n",
    "\"\"\""
   ]
  },
  {
   "cell_type": "code",
   "execution_count": 31,
   "id": "18aae63e",
   "metadata": {
    "ExecuteTime": {
     "end_time": "2024-03-12T16:52:13.917355Z",
     "start_time": "2024-03-12T16:52:13.852562Z"
    }
   },
   "outputs": [],
   "source": [
    "def sigmoid(z):\n",
    "    return 1 / (1 + np.exp(-z))\n",
    "\n"
   ]
  },
  {
   "cell_type": "code",
   "execution_count": 32,
   "id": "0a47da24",
   "metadata": {
    "ExecuteTime": {
     "end_time": "2024-03-12T16:52:13.943476Z",
     "start_time": "2024-03-12T16:52:13.857237Z"
    }
   },
   "outputs": [],
   "source": [
    "from scipy.optimize import fmin_tnc\n",
    "from sklearn import metrics\n",
    "# Define the logistic regression cost function. Note that we use vectorization, and theta includes theta_0, theta_1, etc.\n",
    "def log_reg_cost_function(theta, X, y):\n",
    "    m = X.shape[0]  # number of training examples\n",
    "    h = sigmoid(X.dot(theta))\n",
    "    cost = (-1 / m) * (y.T.dot(np.log(h)) + (1 - y).T.dot(np.log(1 - h)))\n",
    "    return cost\n",
    "\n",
    "# Define the gradient of the logistic regression cost function\n",
    "def log_reg_gradient_function(theta, X, y):\n",
    "    m = X.shape[0]  # number of training examples\n",
    "    h = sigmoid(X.dot(theta))\n",
    "    gradient = (1 / m) * (X.T.dot(h - y))\n",
    "    return gradient\n",
    "\n",
    "# Define the function to train logistic regression model\n",
    "def log_reg_train_function(X, y):\n",
    "    # Add intercept term to X\n",
    "    X_with_intercept = np.insert(X, 0, 1, axis=1)\n",
    "    # Initial theta is 0 (n+1) dimensions, where n is number of features\n",
    "    initial_theta = np.zeros(X_with_intercept.shape[1])\n",
    "    # Optimize the cost function (note that we use a solver, or optimizer, called fmin_tnc)\n",
    "    theta, _, _ = fmin_tnc(func=log_reg_cost_function, x0=initial_theta,\n",
    "                            fprime=log_reg_gradient_function, args=(X_with_intercept, y))\n",
    "    return theta"
   ]
  },
  {
   "cell_type": "code",
   "execution_count": 33,
   "id": "e6a903ff",
   "metadata": {
    "ExecuteTime": {
     "end_time": "2024-03-12T16:52:13.953650Z",
     "start_time": "2024-03-12T16:52:13.861208Z"
    }
   },
   "outputs": [
    {
     "name": "stdout",
     "output_type": "stream",
     "text": [
      "[  63.03788503   63.03788503 -129.37629978    0.20630735]\n"
     ]
    },
    {
     "name": "stderr",
     "output_type": "stream",
     "text": [
      "  NIT   NF   F                       GTG\n",
      "    0    1  6.931471805599453E-01   1.41797295E-01\n",
      "    1    4  5.781246462422103E-01   1.05455944E-03\n",
      "tnc: fscale = 30.7939\n",
      "    2    7  5.751706634902052E-01   2.30853206E-05\n",
      "    3   10  5.651457443570219E-01   7.72616795E-03\n",
      "tnc: stepmx = 1000\n",
      "    4   13  5.387696643219502E-01   4.95948405E-03\n",
      "    5   19  4.983460966797240E-01   1.90513730E-02\n",
      "    6   22  4.703740660915092E-01   5.97272421E-04\n",
      "    7   25  4.691944420480560E-01   1.44742176E-05\n",
      "    8   28  4.684599688689814E-01   5.77269226E-07\n",
      "tnc: fscale = 1316.17\n",
      "    9   31  4.684588881816934E-01   3.18030106E-11\n",
      "tnc: fscale = 177323\n",
      "   10   34  4.684582517820441E-01   8.58729956E-09\n",
      "   11   37  4.684488774938501E-01   3.28029863E-11\n",
      "tnc: |fn-fn-1] = 2.47028e-09 -> convergence\n",
      "   12   40  4.684488750235706E-01   4.42372770E-16\n",
      "tnc: Converged (|f_n-f_(n-1)| ~= 0)\n"
     ]
    },
    {
     "data": {
      "text/plain": "(0.6666666666666666,\n 0.7777777777777777,\n 0.6666666666666666,\n 0.5333333333333333,\n array([[0, 1],\n        [0, 2]]))"
     },
     "execution_count": 33,
     "metadata": {},
     "output_type": "execute_result"
    }
   ],
   "source": [
    "# Train the model using the defined function\n",
    "theta = log_reg_train_function(X_train, y_train)\n",
    "\n",
    "print(theta)\n",
    "\n",
    "# Make predictions on the test set by using the optimal theta resulting from running gradient descent on the cost gradients\n",
    "X_test_with_intercept = np.insert(X_test, 0, 1, axis=1)\n",
    "y_pred = (sigmoid(X_test_with_intercept.dot(theta)) >= 0.5).astype(int)\n",
    "\n",
    "# Calculate performance metrics\n",
    "accuracy = metrics.accuracy_score(y_test, y_pred)\n",
    "precision = metrics.precision_score(y_test, y_pred, average='weighted', zero_division=1)\n",
    "recall = metrics.recall_score(y_test, y_pred, average='weighted', zero_division=1)\n",
    "f1 = metrics.f1_score(y_test, y_pred, average='weighted', zero_division=1)\n",
    "cm = metrics.confusion_matrix(y_test, y_pred)\n",
    "\n",
    "accuracy, precision, recall, f1, cm"
   ]
  },
  {
   "cell_type": "markdown",
   "id": "7d66a03d",
   "metadata": {},
   "source": [
    "Before training our model, let's visualize the data. We will plot the two features on a scatter plot, \n",
    "color-coding them by their respective class labels."
   ]
  },
  {
   "cell_type": "code",
   "execution_count": 34,
   "id": "acb7ed41",
   "metadata": {
    "ExecuteTime": {
     "end_time": "2024-03-12T16:52:13.998034Z",
     "start_time": "2024-03-12T16:52:13.874407Z"
    }
   },
   "outputs": [
    {
     "data": {
      "text/plain": "<Figure size 1000x600 with 1 Axes>",
      "image/png": "[encoded data removed]"
     },
     "metadata": {},
     "output_type": "display_data"
    }
   ],
   "source": [
    "def plot_data(X, y, labels):\n",
    "    plt.figure(figsize=(10, 6))\n",
    "    plt.scatter(X[y == 1, 1], X[y == 1, 2], color='blue', label=labels[0], edgecolors='k')\n",
    "    plt.scatter(X[y == 0, 1], X[y == 0, 2], color='red', label=labels[1], edgecolors='k')\n",
    "    \n",
    "    plt.xlabel('Alcohol')\n",
    "    plt.ylabel('Ash')\n",
    "    plt.legend()\n",
    "    plt.grid(True)\n",
    "    plt.title('Heating Type Visualization')\n",
    "    plt.show()\n",
    "\n",
    "plot_data(X_train, y_train, labels=['Class 1', 'Not Class 1'])"
   ]
  },
  {
   "cell_type": "code",
   "execution_count": 35,
   "id": "7433423a",
   "metadata": {
    "ExecuteTime": {
     "end_time": "2024-03-12T16:52:14.181794Z",
     "start_time": "2024-03-12T16:52:13.997390Z"
    }
   },
   "outputs": [
    {
     "data": {
      "text/plain": "<Figure size 1000x600 with 1 Axes>",
      "image/png": "[encoded data removed]"
     },
     "metadata": {},
     "output_type": "display_data"
    },
    {
     "data": {
      "text/plain": "Text(0.5, 1.0, 'wrong predictions')"
     },
     "execution_count": 35,
     "metadata": {},
     "output_type": "execute_result"
    },
    {
     "data": {
      "text/plain": "<Figure size 640x480 with 1 Axes>",
      "image/png": "[encoded data removed]"
     },
     "metadata": {},
     "output_type": "display_data"
    }
   ],
   "source": [
    "plot_data(X_test, y_test, labels=['Class 1', 'Not Class 1'])\n",
    "\n",
    "\n",
    "plt.plot(y_test-y_pred,'o')\n",
    "plt.title('wrong predictions')\n",
    "\n"
   ]
  },
  {
   "cell_type": "markdown",
   "id": "5b31c74d",
   "metadata": {},
   "source": [
    "How can the model be improved? An easy way would be to add more features. Try this and report the accuracy."
   ]
  },
  {
   "cell_type": "code",
   "execution_count": 35,
   "id": "6b56a8b2",
   "metadata": {
    "ExecuteTime": {
     "end_time": "2024-03-12T16:52:14.183167Z",
     "start_time": "2024-03-12T16:52:14.181705Z"
    }
   },
   "outputs": [],
   "source": []
  },
  {
   "cell_type": "code",
   "execution_count": 35,
   "id": "a21d20a6",
   "metadata": {
    "ExecuteTime": {
     "end_time": "2024-03-12T16:52:14.189049Z",
     "start_time": "2024-03-12T16:52:14.183710Z"
    }
   },
   "outputs": [],
   "source": []
  },
  {
   "cell_type": "code",
   "execution_count": 35,
   "id": "291b7dde",
   "metadata": {
    "ExecuteTime": {
     "end_time": "2024-03-12T16:52:14.189228Z",
     "start_time": "2024-03-12T16:52:14.185343Z"
    }
   },
   "outputs": [],
   "source": [
    "\n"
   ]
  },
  {
   "cell_type": "code",
   "execution_count": 35,
   "id": "e87e986d",
   "metadata": {
    "ExecuteTime": {
     "end_time": "2024-03-12T16:52:14.191445Z",
     "start_time": "2024-03-12T16:52:14.188209Z"
    }
   },
   "outputs": [],
   "source": []
  },
  {
   "cell_type": "code",
   "execution_count": 35,
   "id": "f15f845e",
   "metadata": {
    "ExecuteTime": {
     "end_time": "2024-03-12T16:52:14.192885Z",
     "start_time": "2024-03-12T16:52:14.191067Z"
    }
   },
   "outputs": [],
   "source": []
  }
 ],
 "metadata": {
  "kernelspec": {
   "display_name": "Python 3 (ipykernel)",
   "language": "python",
   "name": "python3"
  },
  "language_info": {
   "codemirror_mode": {
    "name": "ipython",
    "version": 3
   },
   "file_extension": ".py",
   "mimetype": "text/x-python",
   "name": "python",
   "nbconvert_exporter": "python",
   "pygments_lexer": "ipython3",
   "version": "3.10.9"
  }
 },
 "nbformat": 4,
 "nbformat_minor": 5
}
